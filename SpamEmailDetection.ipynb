{
 "cells": [
  {
   "cell_type": "code",
   "execution_count": 187,
   "id": "3204a3b8",
   "metadata": {
    "id": "3204a3b8"
   },
   "outputs": [],
   "source": [
    " \n",
    "import os\n",
    "import numpy as np\n",
    "import pandas as pd\n",
    "import seaborn as sns\n",
    "from matplotlib import pyplot as plt\n",
    "import re\n",
    "import string"
   ]
  },
  {
   "cell_type": "code",
   "execution_count": 45,
   "id": "7ad21910",
   "metadata": {
    "id": "7ad21910"
   },
   "outputs": [],
   "source": [
    "\n",
    "spam_data = pd.read_csv('Spam_Dataset.csv')"
   ]
  },
  {
   "cell_type": "code",
   "execution_count": 46,
   "id": "bcc33198",
   "metadata": {
    "id": "bcc33198",
    "outputId": "0ef65a7f-094f-441e-ef32-04b10b4187a2"
   },
   "outputs": [
    {
     "data": {
      "text/html": [
       "<div>\n",
       "<style scoped>\n",
       "    .dataframe tbody tr th:only-of-type {\n",
       "        vertical-align: middle;\n",
       "    }\n",
       "\n",
       "    .dataframe tbody tr th {\n",
       "        vertical-align: top;\n",
       "    }\n",
       "\n",
       "    .dataframe thead th {\n",
       "        text-align: right;\n",
       "    }\n",
       "</style>\n",
       "<table border=\"1\" class=\"dataframe\">\n",
       "  <thead>\n",
       "    <tr style=\"text-align: right;\">\n",
       "      <th></th>\n",
       "      <th>Category</th>\n",
       "      <th>Message</th>\n",
       "    </tr>\n",
       "  </thead>\n",
       "  <tbody>\n",
       "    <tr>\n",
       "      <th>0</th>\n",
       "      <td>1</td>\n",
       "      <td>Free entry in 2 a wkly comp to win FA Cup fina...</td>\n",
       "    </tr>\n",
       "    <tr>\n",
       "      <th>1</th>\n",
       "      <td>1</td>\n",
       "      <td>FreeMsg Hey there darling it's been 3 week's n...</td>\n",
       "    </tr>\n",
       "    <tr>\n",
       "      <th>2</th>\n",
       "      <td>1</td>\n",
       "      <td>WINNER!! As a valued network customer you have...</td>\n",
       "    </tr>\n",
       "    <tr>\n",
       "      <th>3</th>\n",
       "      <td>1</td>\n",
       "      <td>Had your mobile 11 months or more? U R entitle...</td>\n",
       "    </tr>\n",
       "    <tr>\n",
       "      <th>4</th>\n",
       "      <td>1</td>\n",
       "      <td>SIX chances to win CASH! From 100 to 20,000 po...</td>\n",
       "    </tr>\n",
       "  </tbody>\n",
       "</table>\n",
       "</div>"
      ],
      "text/plain": [
       "   Category                                            Message\n",
       "0         1  Free entry in 2 a wkly comp to win FA Cup fina...\n",
       "1         1  FreeMsg Hey there darling it's been 3 week's n...\n",
       "2         1  WINNER!! As a valued network customer you have...\n",
       "3         1  Had your mobile 11 months or more? U R entitle...\n",
       "4         1  SIX chances to win CASH! From 100 to 20,000 po..."
      ]
     },
     "execution_count": 46,
     "metadata": {},
     "output_type": "execute_result"
    }
   ],
   "source": [
    "\n",
    "spam_data.head()"
   ]
  },
  {
   "cell_type": "code",
   "execution_count": 47,
   "id": "813e4130",
   "metadata": {
    "id": "813e4130",
    "outputId": "2eeef2ca-6a0a-4f04-a3c1-5617aa147beb"
   },
   "outputs": [
    {
     "name": "stdout",
     "output_type": "stream",
     "text": [
      "<class 'pandas.core.frame.DataFrame'>\n",
      "RangeIndex: 1637 entries, 0 to 1636\n",
      "Data columns (total 2 columns):\n",
      " #   Column    Non-Null Count  Dtype \n",
      "---  ------    --------------  ----- \n",
      " 0   Category  1637 non-null   int64 \n",
      " 1   Message   1637 non-null   object\n",
      "dtypes: int64(1), object(1)\n",
      "memory usage: 25.7+ KB\n"
     ]
    }
   ],
   "source": [
    "# check datatype and count\n",
    "spam_data.info()"
   ]
  },
  {
   "cell_type": "code",
   "execution_count": 48,
   "id": "bdda75de",
   "metadata": {
    "id": "bdda75de",
    "outputId": "0a218378-914d-4cd1-93e7-b50c57a8c672"
   },
   "outputs": [
    {
     "data": {
      "text/plain": [
       "0    996\n",
       "1    641\n",
       "Name: Category, dtype: int64"
      ]
     },
     "execution_count": 48,
     "metadata": {},
     "output_type": "execute_result"
    }
   ],
   "source": [
    "spam_data['Category'].value_counts()"
   ]
  },
  {
   "cell_type": "code",
   "execution_count": 49,
   "id": "2e0fbab1",
   "metadata": {
    "id": "2e0fbab1",
    "outputId": "28683fc4-a483-4f61-e13b-6e77a719049b"
   },
   "outputs": [
    {
     "data": {
      "text/plain": [
       "Category    0\n",
       "Message     0\n",
       "dtype: int64"
      ]
     },
     "execution_count": 49,
     "metadata": {},
     "output_type": "execute_result"
    }
   ],
   "source": [
    "\n",
    "spam_data.isna().sum()"
   ]
  },
  {
   "cell_type": "code",
   "execution_count": 50,
   "id": "83f57d62",
   "metadata": {
    "id": "83f57d62"
   },
   "outputs": [],
   "source": [
    "spam_data.dropna(inplace=True)"
   ]
  },
  {
   "cell_type": "code",
   "execution_count": 51,
   "id": "834dadc9",
   "metadata": {
    "id": "834dadc9",
    "outputId": "97e1c3d6-e6da-434a-87be-2456e5b52d77"
   },
   "outputs": [
    {
     "data": {
      "text/plain": [
       "Category     int64\n",
       "Message     string\n",
       "dtype: object"
      ]
     },
     "execution_count": 51,
     "metadata": {},
     "output_type": "execute_result"
    }
   ],
   "source": [
    "spam_data['Message'] = spam_data['Message'].astype('string')\n",
    "spam_data.dtypes"
   ]
  },
  {
   "cell_type": "code",
   "execution_count": 52,
   "id": "c63906f4",
   "metadata": {
    "id": "c63906f4",
    "outputId": "b91ea61e-590f-4415-d879-33f77d18373c"
   },
   "outputs": [
    {
     "name": "stdout",
     "output_type": "stream",
     "text": [
      "<class 'pandas.core.frame.DataFrame'>\n",
      "Int64Index: 1637 entries, 0 to 1636\n",
      "Data columns (total 2 columns):\n",
      " #   Column    Non-Null Count  Dtype \n",
      "---  ------    --------------  ----- \n",
      " 0   Category  1637 non-null   int64 \n",
      " 1   Message   1637 non-null   string\n",
      "dtypes: int64(1), string(1)\n",
      "memory usage: 38.4 KB\n"
     ]
    }
   ],
   "source": [
    "spam_data.info()"
   ]
  },
  {
   "cell_type": "code",
   "execution_count": 53,
   "id": "f9c5a887",
   "metadata": {
    "id": "f9c5a887"
   },
   "outputs": [],
   "source": [
    "\n",
    "x_4_eda = spam_data['Message'].tolist()"
   ]
  },
  {
   "cell_type": "code",
   "execution_count": 54,
   "id": "d13c01f6",
   "metadata": {
    "id": "d13c01f6",
    "outputId": "ce026d8f-123f-4060-f705-79a5957eb28b"
   },
   "outputs": [
    {
     "data": {
      "text/plain": [
       "'sms. ac sptv: the new jersey devils and the detroit red wings play ice hockey. correct or incorrect? end? reply end sptv'"
      ]
     },
     "execution_count": 54,
     "metadata": {},
     "output_type": "execute_result"
    }
   ],
   "source": [
    "\n",
    "x = spam_data['Message']\n",
    "x_low = [email.lower() for email in x]\n",
    "x_low[10]"
   ]
  },
  {
   "cell_type": "code",
   "execution_count": 55,
   "id": "5663909b",
   "metadata": {
    "id": "5663909b",
    "outputId": "1fe5a9b2-d7a0-4ac5-9d86-3b4d7b9262de"
   },
   "outputs": [
    {
     "data": {
      "text/plain": [
       "'sms. ac sptv: the new jersey devils and the detroit red wings play ice hockey. correct or incorrect? end? reply end sptv'"
      ]
     },
     "execution_count": 55,
     "metadata": {},
     "output_type": "execute_result"
    }
   ],
   "source": [
    "\n",
    "x_link_cl = [re.sub(r\"http\\s.\\s.\\s.\\s\\S+\\s.\\s\\S+\\s.\\s\\S+\", \"\", text) for text in x_low]\n",
    "x_link_cl[10]"
   ]
  },
  {
   "cell_type": "code",
   "execution_count": 56,
   "id": "dd67f166",
   "metadata": {
    "id": "dd67f166",
    "outputId": "69aa8e08-0297-4864-abb8-c1053534d451"
   },
   "outputs": [
    {
     "data": {
      "text/plain": [
       "'free entry in 2 a wkly comp to win fa cup final tkts 21st may 2005  text fa to 87121 to receive entry question std txt rate t c s apply 08452810075over18 s'"
      ]
     },
     "execution_count": 56,
     "metadata": {},
     "output_type": "execute_result"
    }
   ],
   "source": [
    "\n",
    "x_link_cl[0]\n",
    "x_digts_cl = [re.sub(\"[^a-zA-Z0-9]\",\" \",text) for text in x_link_cl]\n",
    "x_digts_cl[0]\n"
   ]
  },
  {
   "cell_type": "code",
   "execution_count": 57,
   "id": "43886033",
   "metadata": {
    "id": "43886033",
    "outputId": "2c48db72-b33a-493a-c807-23422a37ea5c"
   },
   "outputs": [
    {
     "data": {
      "text/plain": [
       "'free entry in a wkly comp to win fa cup final tkts may text fa to to receive entry question std txt rate t c s apply s'"
      ]
     },
     "execution_count": 57,
     "metadata": {},
     "output_type": "execute_result"
    }
   ],
   "source": [
    "\n",
    "x_nm_cl = list(map(lambda words: ' '.join(s for s in words.split() if not any(c.isdigit() for c in s)), x_digts_cl))\n",
    "x_nm_cl[0]"
   ]
  },
  {
   "cell_type": "code",
   "execution_count": 58,
   "id": "9ce4ed45",
   "metadata": {
    "id": "9ce4ed45",
    "outputId": "69e83448-922d-456d-d6ae-871f23ecf6b9"
   },
   "outputs": [
    {
     "data": {
      "text/plain": [
       "'free entry in wkly comp to win fa cup final tkts may text fa to to receive entry question std txt rate apply'"
      ]
     },
     "execution_count": 58,
     "metadata": {},
     "output_type": "execute_result"
    }
   ],
   "source": [
    "\n",
    "x_final_cl = list(map(lambda words: ' '.join(s for s in words.split() if len(s) > 1), x_nm_cl))\n",
    "x_final_cl[0]"
   ]
  },
  {
   "cell_type": "code",
   "execution_count": 59,
   "id": "cd718d75",
   "metadata": {
    "id": "cd718d75",
    "outputId": "aecd3a9d-7665-440a-9533-7bb9a99d5de0"
   },
   "outputs": [
    {
     "name": "stdout",
     "output_type": "stream",
     "text": [
      "<class 'pandas.core.frame.DataFrame'>\n",
      "Int64Index: 1637 entries, 0 to 1636\n",
      "Data columns (total 2 columns):\n",
      " #   Column    Non-Null Count  Dtype \n",
      "---  ------    --------------  ----- \n",
      " 0   Category  1637 non-null   int64 \n",
      " 1   Message   1637 non-null   string\n",
      "dtypes: int64(1), string(1)\n",
      "memory usage: 38.4 KB\n"
     ]
    }
   ],
   "source": [
    "spam_data['Message'] = x_final_cl\n",
    "spam_data['Message'] = spam_data['Message'].astype('string')\n",
    "spam_data.info()"
   ]
  },
  {
   "cell_type": "code",
   "execution_count": 60,
   "id": "52d1fe0f",
   "metadata": {
    "id": "52d1fe0f"
   },
   "outputs": [],
   "source": [
    "spam_data['punct_count'] = [len(re.findall(\"[!#$%&\\'()+,-./:;<=>?@[\\\\]^_`{|}~]\",text)) for text in x_link_cl]"
   ]
  },
  {
   "cell_type": "code",
   "execution_count": 61,
   "id": "c737bb46",
   "metadata": {
    "id": "c737bb46"
   },
   "outputs": [],
   "source": [
    "def count_capital(words):\n",
    "    return (len(list(filter(lambda x:x.isupper(), list(words)))))"
   ]
  },
  {
   "cell_type": "code",
   "execution_count": 62,
   "id": "1eff337e",
   "metadata": {
    "id": "1eff337e"
   },
   "outputs": [],
   "source": [
    "spam_data['cl_count'] = list(map(count_capital, x_4_eda))"
   ]
  },
  {
   "cell_type": "code",
   "execution_count": 63,
   "id": "ce6cc476",
   "metadata": {
    "id": "ce6cc476"
   },
   "outputs": [],
   "source": [
    "def count_nums(words):\n",
    "    return (len(list(filter(lambda x:x.isdigit(), list(words)))))"
   ]
  },
  {
   "cell_type": "code",
   "execution_count": 64,
   "id": "ac755ea9",
   "metadata": {
    "id": "ac755ea9"
   },
   "outputs": [],
   "source": [
    "spam_data['nums_count'] = list(map(count_nums, x_digts_cl))"
   ]
  },
  {
   "cell_type": "code",
   "execution_count": 65,
   "id": "1a228fd9",
   "metadata": {
    "id": "1a228fd9"
   },
   "outputs": [],
   "source": [
    "import nltk\n",
    "#nltk.download('stopwords')"
   ]
  },
  {
   "cell_type": "code",
   "execution_count": 66,
   "id": "180decae",
   "metadata": {
    "id": "180decae"
   },
   "outputs": [],
   "source": [
    "stopwords = nltk.corpus.stopwords.words(\"english\")"
   ]
  },
  {
   "cell_type": "code",
   "execution_count": 67,
   "id": "86d0c356",
   "metadata": {
    "id": "86d0c356"
   },
   "outputs": [],
   "source": [
    "def count_stopw(words):\n",
    "    return (len(list(filter(lambda x:x in stopwords, list(words)))))"
   ]
  },
  {
   "cell_type": "code",
   "execution_count": 68,
   "id": "7b80439a",
   "metadata": {
    "id": "7b80439a"
   },
   "outputs": [],
   "source": [
    "spam_data['st_word_count'] = list(map(count_stopw, x_final_cl))"
   ]
  },
  {
   "cell_type": "code",
   "execution_count": 69,
   "id": "c94b12de",
   "metadata": {
    "id": "c94b12de"
   },
   "outputs": [],
   "source": [
    "spam_data['length'] = list(map(len, spam_data['Message']))"
   ]
  },
  {
   "cell_type": "code",
   "execution_count": 70,
   "id": "301566f6",
   "metadata": {
    "id": "301566f6",
    "outputId": "86ea3435-6049-46e2-da08-2d9ce189d39b"
   },
   "outputs": [
    {
     "data": {
      "text/html": [
       "<div>\n",
       "<style scoped>\n",
       "    .dataframe tbody tr th:only-of-type {\n",
       "        vertical-align: middle;\n",
       "    }\n",
       "\n",
       "    .dataframe tbody tr th {\n",
       "        vertical-align: top;\n",
       "    }\n",
       "\n",
       "    .dataframe thead th {\n",
       "        text-align: right;\n",
       "    }\n",
       "</style>\n",
       "<table border=\"1\" class=\"dataframe\">\n",
       "  <thead>\n",
       "    <tr style=\"text-align: right;\">\n",
       "      <th></th>\n",
       "      <th>Category</th>\n",
       "      <th>Message</th>\n",
       "      <th>punct_count</th>\n",
       "      <th>cl_count</th>\n",
       "      <th>nums_count</th>\n",
       "      <th>st_word_count</th>\n",
       "      <th>length</th>\n",
       "    </tr>\n",
       "  </thead>\n",
       "  <tbody>\n",
       "    <tr>\n",
       "      <th>0</th>\n",
       "      <td>1</td>\n",
       "      <td>free entry in wkly comp to win fa cup final tk...</td>\n",
       "      <td>6</td>\n",
       "      <td>10</td>\n",
       "      <td>25</td>\n",
       "      <td>41</td>\n",
       "      <td>108</td>\n",
       "    </tr>\n",
       "    <tr>\n",
       "      <th>1</th>\n",
       "      <td>1</td>\n",
       "      <td>freemsg hey there darling it been week now and...</td>\n",
       "      <td>8</td>\n",
       "      <td>7</td>\n",
       "      <td>4</td>\n",
       "      <td>40</td>\n",
       "      <td>127</td>\n",
       "    </tr>\n",
       "    <tr>\n",
       "      <th>2</th>\n",
       "      <td>1</td>\n",
       "      <td>winner as valued network customer you have bee...</td>\n",
       "      <td>6</td>\n",
       "      <td>12</td>\n",
       "      <td>19</td>\n",
       "      <td>42</td>\n",
       "      <td>123</td>\n",
       "    </tr>\n",
       "    <tr>\n",
       "      <th>3</th>\n",
       "      <td>1</td>\n",
       "      <td>had your mobile months or more entitled to upd...</td>\n",
       "      <td>2</td>\n",
       "      <td>14</td>\n",
       "      <td>13</td>\n",
       "      <td>52</td>\n",
       "      <td>133</td>\n",
       "    </tr>\n",
       "    <tr>\n",
       "      <th>4</th>\n",
       "      <td>1</td>\n",
       "      <td>six chances to win cash from to pounds txt and...</td>\n",
       "      <td>8</td>\n",
       "      <td>17</td>\n",
       "      <td>22</td>\n",
       "      <td>40</td>\n",
       "      <td>91</td>\n",
       "    </tr>\n",
       "  </tbody>\n",
       "</table>\n",
       "</div>"
      ],
      "text/plain": [
       "   Category                                            Message  punct_count  \\\n",
       "0         1  free entry in wkly comp to win fa cup final tk...            6   \n",
       "1         1  freemsg hey there darling it been week now and...            8   \n",
       "2         1  winner as valued network customer you have bee...            6   \n",
       "3         1  had your mobile months or more entitled to upd...            2   \n",
       "4         1  six chances to win cash from to pounds txt and...            8   \n",
       "\n",
       "   cl_count  nums_count  st_word_count  length  \n",
       "0        10          25             41     108  \n",
       "1         7           4             40     127  \n",
       "2        12          19             42     123  \n",
       "3        14          13             52     133  \n",
       "4        17          22             40      91  "
      ]
     },
     "execution_count": 70,
     "metadata": {},
     "output_type": "execute_result"
    }
   ],
   "source": [
    "spam_data.head(5)"
   ]
  },
  {
   "cell_type": "code",
   "execution_count": 71,
   "id": "4cf009c1",
   "metadata": {
    "id": "4cf009c1",
    "outputId": "332ecdbd-1aeb-47e2-ba7b-e8019d88ab8a"
   },
   "outputs": [
    {
     "data": {
      "text/html": [
       "<div>\n",
       "<style scoped>\n",
       "    .dataframe tbody tr th:only-of-type {\n",
       "        vertical-align: middle;\n",
       "    }\n",
       "\n",
       "    .dataframe tbody tr th {\n",
       "        vertical-align: top;\n",
       "    }\n",
       "\n",
       "    .dataframe thead tr th {\n",
       "        text-align: left;\n",
       "    }\n",
       "\n",
       "    .dataframe thead tr:last-of-type th {\n",
       "        text-align: right;\n",
       "    }\n",
       "</style>\n",
       "<table border=\"1\" class=\"dataframe\">\n",
       "  <thead>\n",
       "    <tr>\n",
       "      <th></th>\n",
       "      <th colspan=\"8\" halign=\"left\">punct_count</th>\n",
       "      <th colspan=\"2\" halign=\"left\">cl_count</th>\n",
       "      <th>...</th>\n",
       "      <th colspan=\"2\" halign=\"left\">st_word_count</th>\n",
       "      <th colspan=\"8\" halign=\"left\">length</th>\n",
       "    </tr>\n",
       "    <tr>\n",
       "      <th></th>\n",
       "      <th>count</th>\n",
       "      <th>mean</th>\n",
       "      <th>std</th>\n",
       "      <th>min</th>\n",
       "      <th>25%</th>\n",
       "      <th>50%</th>\n",
       "      <th>75%</th>\n",
       "      <th>max</th>\n",
       "      <th>count</th>\n",
       "      <th>mean</th>\n",
       "      <th>...</th>\n",
       "      <th>75%</th>\n",
       "      <th>max</th>\n",
       "      <th>count</th>\n",
       "      <th>mean</th>\n",
       "      <th>std</th>\n",
       "      <th>min</th>\n",
       "      <th>25%</th>\n",
       "      <th>50%</th>\n",
       "      <th>75%</th>\n",
       "      <th>max</th>\n",
       "    </tr>\n",
       "    <tr>\n",
       "      <th>Category</th>\n",
       "      <th></th>\n",
       "      <th></th>\n",
       "      <th></th>\n",
       "      <th></th>\n",
       "      <th></th>\n",
       "      <th></th>\n",
       "      <th></th>\n",
       "      <th></th>\n",
       "      <th></th>\n",
       "      <th></th>\n",
       "      <th></th>\n",
       "      <th></th>\n",
       "      <th></th>\n",
       "      <th></th>\n",
       "      <th></th>\n",
       "      <th></th>\n",
       "      <th></th>\n",
       "      <th></th>\n",
       "      <th></th>\n",
       "      <th></th>\n",
       "      <th></th>\n",
       "    </tr>\n",
       "  </thead>\n",
       "  <tbody>\n",
       "    <tr>\n",
       "      <th>0</th>\n",
       "      <td>996.0</td>\n",
       "      <td>3.629518</td>\n",
       "      <td>3.465304</td>\n",
       "      <td>0.0</td>\n",
       "      <td>1.0</td>\n",
       "      <td>3.0</td>\n",
       "      <td>5.0</td>\n",
       "      <td>30.0</td>\n",
       "      <td>996.0</td>\n",
       "      <td>3.788153</td>\n",
       "      <td>...</td>\n",
       "      <td>33.0</td>\n",
       "      <td>289.0</td>\n",
       "      <td>996.0</td>\n",
       "      <td>65.428715</td>\n",
       "      <td>53.773132</td>\n",
       "      <td>2.0</td>\n",
       "      <td>30.0</td>\n",
       "      <td>49.0</td>\n",
       "      <td>87.0</td>\n",
       "      <td>879.0</td>\n",
       "    </tr>\n",
       "    <tr>\n",
       "      <th>1</th>\n",
       "      <td>641.0</td>\n",
       "      <td>5.425897</td>\n",
       "      <td>3.200276</td>\n",
       "      <td>0.0</td>\n",
       "      <td>3.0</td>\n",
       "      <td>5.0</td>\n",
       "      <td>8.0</td>\n",
       "      <td>18.0</td>\n",
       "      <td>641.0</td>\n",
       "      <td>15.132605</td>\n",
       "      <td>...</td>\n",
       "      <td>46.0</td>\n",
       "      <td>71.0</td>\n",
       "      <td>641.0</td>\n",
       "      <td>105.586583</td>\n",
       "      <td>26.976073</td>\n",
       "      <td>0.0</td>\n",
       "      <td>92.0</td>\n",
       "      <td>110.0</td>\n",
       "      <td>124.0</td>\n",
       "      <td>182.0</td>\n",
       "    </tr>\n",
       "  </tbody>\n",
       "</table>\n",
       "<p>2 rows × 40 columns</p>\n",
       "</div>"
      ],
      "text/plain": [
       "         punct_count                                               cl_count  \\\n",
       "               count      mean       std  min  25%  50%  75%   max    count   \n",
       "Category                                                                      \n",
       "0              996.0  3.629518  3.465304  0.0  1.0  3.0  5.0  30.0    996.0   \n",
       "1              641.0  5.425897  3.200276  0.0  3.0  5.0  8.0  18.0    641.0   \n",
       "\n",
       "                     ... st_word_count        length                         \\\n",
       "               mean  ...           75%    max  count        mean        std   \n",
       "Category             ...                                                      \n",
       "0          3.788153  ...          33.0  289.0  996.0   65.428715  53.773132   \n",
       "1         15.132605  ...          46.0   71.0  641.0  105.586583  26.976073   \n",
       "\n",
       "                                          \n",
       "          min   25%    50%    75%    max  \n",
       "Category                                  \n",
       "0         2.0  30.0   49.0   87.0  879.0  \n",
       "1         0.0  92.0  110.0  124.0  182.0  \n",
       "\n",
       "[2 rows x 40 columns]"
      ]
     },
     "execution_count": 71,
     "metadata": {},
     "output_type": "execute_result"
    }
   ],
   "source": [
    "spam_data.groupby(\"Category\").describe()"
   ]
  },
  {
   "cell_type": "code",
   "execution_count": 72,
   "id": "6978d519",
   "metadata": {
    "id": "6978d519",
    "outputId": "6a244ad6-da03-4934-95c3-1b3266743786"
   },
   "outputs": [
    {
     "data": {
      "text/plain": [
       "count                                                  1637\n",
       "unique                                                 1569\n",
       "top       private your account statement for shows un re...\n",
       "freq                                                     10\n",
       "Name: Message, dtype: object"
      ]
     },
     "execution_count": 72,
     "metadata": {},
     "output_type": "execute_result"
    }
   ],
   "source": [
    "spam_data[\"Message\"].describe()"
   ]
  },
  {
   "cell_type": "code",
   "execution_count": 73,
   "id": "f2d23283",
   "metadata": {
    "id": "f2d23283",
    "outputId": "9e99b63c-52a1-427b-f973-0fea1f5b984e"
   },
   "outputs": [
    {
     "data": {
      "text/html": [
       "<div>\n",
       "<style scoped>\n",
       "    .dataframe tbody tr th:only-of-type {\n",
       "        vertical-align: middle;\n",
       "    }\n",
       "\n",
       "    .dataframe tbody tr th {\n",
       "        vertical-align: top;\n",
       "    }\n",
       "\n",
       "    .dataframe thead th {\n",
       "        text-align: right;\n",
       "    }\n",
       "</style>\n",
       "<table border=\"1\" class=\"dataframe\">\n",
       "  <thead>\n",
       "    <tr style=\"text-align: right;\">\n",
       "      <th></th>\n",
       "      <th>Category</th>\n",
       "      <th>Message</th>\n",
       "      <th>punct_count</th>\n",
       "      <th>cl_count</th>\n",
       "      <th>nums_count</th>\n",
       "      <th>st_word_count</th>\n",
       "      <th>length</th>\n",
       "    </tr>\n",
       "  </thead>\n",
       "  <tbody>\n",
       "    <tr>\n",
       "      <th>83</th>\n",
       "      <td>1</td>\n",
       "      <td>private your account statement for shows un re...</td>\n",
       "      <td>9</td>\n",
       "      <td>17</td>\n",
       "      <td>40</td>\n",
       "      <td>35</td>\n",
       "      <td>88</td>\n",
       "    </tr>\n",
       "    <tr>\n",
       "      <th>90</th>\n",
       "      <td>1</td>\n",
       "      <td>private your account statement for shows un re...</td>\n",
       "      <td>9</td>\n",
       "      <td>17</td>\n",
       "      <td>29</td>\n",
       "      <td>35</td>\n",
       "      <td>88</td>\n",
       "    </tr>\n",
       "    <tr>\n",
       "      <th>133</th>\n",
       "      <td>1</td>\n",
       "      <td>have secret admirer who is looking make contac...</td>\n",
       "      <td>2</td>\n",
       "      <td>5</td>\n",
       "      <td>12</td>\n",
       "      <td>40</td>\n",
       "      <td>110</td>\n",
       "    </tr>\n",
       "    <tr>\n",
       "      <th>155</th>\n",
       "      <td>1</td>\n",
       "      <td>urgent we are trying to contact todays draw sh...</td>\n",
       "      <td>5</td>\n",
       "      <td>23</td>\n",
       "      <td>18</td>\n",
       "      <td>45</td>\n",
       "      <td>115</td>\n",
       "    </tr>\n",
       "    <tr>\n",
       "      <th>175</th>\n",
       "      <td>1</td>\n",
       "      <td>you have new voicemail please call</td>\n",
       "      <td>2</td>\n",
       "      <td>2</td>\n",
       "      <td>12</td>\n",
       "      <td>11</td>\n",
       "      <td>34</td>\n",
       "    </tr>\n",
       "    <tr>\n",
       "      <th>...</th>\n",
       "      <td>...</td>\n",
       "      <td>...</td>\n",
       "      <td>...</td>\n",
       "      <td>...</td>\n",
       "      <td>...</td>\n",
       "      <td>...</td>\n",
       "      <td>...</td>\n",
       "    </tr>\n",
       "    <tr>\n",
       "      <th>610</th>\n",
       "      <td>1</td>\n",
       "      <td>had your mobile update for free to oranges lat...</td>\n",
       "      <td>3</td>\n",
       "      <td>12</td>\n",
       "      <td>15</td>\n",
       "      <td>44</td>\n",
       "      <td>122</td>\n",
       "    </tr>\n",
       "    <tr>\n",
       "      <th>614</th>\n",
       "      <td>1</td>\n",
       "      <td>urgent your mobile number has been awarded wit...</td>\n",
       "      <td>4</td>\n",
       "      <td>21</td>\n",
       "      <td>24</td>\n",
       "      <td>34</td>\n",
       "      <td>101</td>\n",
       "    </tr>\n",
       "    <tr>\n",
       "      <th>634</th>\n",
       "      <td>1</td>\n",
       "      <td>private your account statement for shows un re...</td>\n",
       "      <td>9</td>\n",
       "      <td>17</td>\n",
       "      <td>40</td>\n",
       "      <td>35</td>\n",
       "      <td>88</td>\n",
       "    </tr>\n",
       "    <tr>\n",
       "      <th>635</th>\n",
       "      <td>1</td>\n",
       "      <td>private your account statement for shows un re...</td>\n",
       "      <td>9</td>\n",
       "      <td>17</td>\n",
       "      <td>29</td>\n",
       "      <td>35</td>\n",
       "      <td>88</td>\n",
       "    </tr>\n",
       "    <tr>\n",
       "      <th>638</th>\n",
       "      <td>1</td>\n",
       "      <td>had your contract mobile mnths latest motorola...</td>\n",
       "      <td>8</td>\n",
       "      <td>20</td>\n",
       "      <td>2</td>\n",
       "      <td>60</td>\n",
       "      <td>148</td>\n",
       "    </tr>\n",
       "  </tbody>\n",
       "</table>\n",
       "<p>68 rows × 7 columns</p>\n",
       "</div>"
      ],
      "text/plain": [
       "     Category                                            Message  punct_count  \\\n",
       "83          1  private your account statement for shows un re...            9   \n",
       "90          1  private your account statement for shows un re...            9   \n",
       "133         1  have secret admirer who is looking make contac...            2   \n",
       "155         1  urgent we are trying to contact todays draw sh...            5   \n",
       "175         1                 you have new voicemail please call            2   \n",
       "..        ...                                                ...          ...   \n",
       "610         1  had your mobile update for free to oranges lat...            3   \n",
       "614         1  urgent your mobile number has been awarded wit...            4   \n",
       "634         1  private your account statement for shows un re...            9   \n",
       "635         1  private your account statement for shows un re...            9   \n",
       "638         1  had your contract mobile mnths latest motorola...            8   \n",
       "\n",
       "     cl_count  nums_count  st_word_count  length  \n",
       "83         17          40             35      88  \n",
       "90         17          29             35      88  \n",
       "133         5          12             40     110  \n",
       "155        23          18             45     115  \n",
       "175         2          12             11      34  \n",
       "..        ...         ...            ...     ...  \n",
       "610        12          15             44     122  \n",
       "614        21          24             34     101  \n",
       "634        17          40             35      88  \n",
       "635        17          29             35      88  \n",
       "638        20           2             60     148  \n",
       "\n",
       "[68 rows x 7 columns]"
      ]
     },
     "execution_count": 73,
     "metadata": {},
     "output_type": "execute_result"
    }
   ],
   "source": [
    "spam_data[spam_data[\"Message\"].duplicated()]"
   ]
  },
  {
   "cell_type": "code",
   "execution_count": 74,
   "id": "c713e23a",
   "metadata": {
    "id": "c713e23a"
   },
   "outputs": [],
   "source": [
    "spam_data = spam_data.drop_duplicates(subset = ['Message'])"
   ]
  },
  {
   "cell_type": "code",
   "execution_count": 75,
   "id": "b871cba1",
   "metadata": {
    "id": "b871cba1",
    "outputId": "77cfd8af-7483-446c-ce5a-fc7505100762"
   },
   "outputs": [
    {
     "data": {
      "text/html": [
       "<div>\n",
       "<style scoped>\n",
       "    .dataframe tbody tr th:only-of-type {\n",
       "        vertical-align: middle;\n",
       "    }\n",
       "\n",
       "    .dataframe tbody tr th {\n",
       "        vertical-align: top;\n",
       "    }\n",
       "\n",
       "    .dataframe thead tr th {\n",
       "        text-align: left;\n",
       "    }\n",
       "\n",
       "    .dataframe thead tr:last-of-type th {\n",
       "        text-align: right;\n",
       "    }\n",
       "</style>\n",
       "<table border=\"1\" class=\"dataframe\">\n",
       "  <thead>\n",
       "    <tr>\n",
       "      <th></th>\n",
       "      <th colspan=\"8\" halign=\"left\">punct_count</th>\n",
       "      <th colspan=\"2\" halign=\"left\">cl_count</th>\n",
       "      <th>...</th>\n",
       "      <th colspan=\"2\" halign=\"left\">st_word_count</th>\n",
       "      <th colspan=\"8\" halign=\"left\">length</th>\n",
       "    </tr>\n",
       "    <tr>\n",
       "      <th></th>\n",
       "      <th>count</th>\n",
       "      <th>mean</th>\n",
       "      <th>std</th>\n",
       "      <th>min</th>\n",
       "      <th>25%</th>\n",
       "      <th>50%</th>\n",
       "      <th>75%</th>\n",
       "      <th>max</th>\n",
       "      <th>count</th>\n",
       "      <th>mean</th>\n",
       "      <th>...</th>\n",
       "      <th>75%</th>\n",
       "      <th>max</th>\n",
       "      <th>count</th>\n",
       "      <th>mean</th>\n",
       "      <th>std</th>\n",
       "      <th>min</th>\n",
       "      <th>25%</th>\n",
       "      <th>50%</th>\n",
       "      <th>75%</th>\n",
       "      <th>max</th>\n",
       "    </tr>\n",
       "    <tr>\n",
       "      <th>Category</th>\n",
       "      <th></th>\n",
       "      <th></th>\n",
       "      <th></th>\n",
       "      <th></th>\n",
       "      <th></th>\n",
       "      <th></th>\n",
       "      <th></th>\n",
       "      <th></th>\n",
       "      <th></th>\n",
       "      <th></th>\n",
       "      <th></th>\n",
       "      <th></th>\n",
       "      <th></th>\n",
       "      <th></th>\n",
       "      <th></th>\n",
       "      <th></th>\n",
       "      <th></th>\n",
       "      <th></th>\n",
       "      <th></th>\n",
       "      <th></th>\n",
       "      <th></th>\n",
       "    </tr>\n",
       "  </thead>\n",
       "  <tbody>\n",
       "    <tr>\n",
       "      <th>0</th>\n",
       "      <td>996.0</td>\n",
       "      <td>3.629518</td>\n",
       "      <td>3.465304</td>\n",
       "      <td>0.0</td>\n",
       "      <td>1.0</td>\n",
       "      <td>3.0</td>\n",
       "      <td>5.0</td>\n",
       "      <td>30.0</td>\n",
       "      <td>996.0</td>\n",
       "      <td>3.788153</td>\n",
       "      <td>...</td>\n",
       "      <td>33.0</td>\n",
       "      <td>289.0</td>\n",
       "      <td>996.0</td>\n",
       "      <td>65.428715</td>\n",
       "      <td>53.773132</td>\n",
       "      <td>2.0</td>\n",
       "      <td>30.0</td>\n",
       "      <td>49.0</td>\n",
       "      <td>87.0</td>\n",
       "      <td>879.0</td>\n",
       "    </tr>\n",
       "    <tr>\n",
       "      <th>1</th>\n",
       "      <td>573.0</td>\n",
       "      <td>5.467714</td>\n",
       "      <td>3.233525</td>\n",
       "      <td>0.0</td>\n",
       "      <td>3.0</td>\n",
       "      <td>5.0</td>\n",
       "      <td>8.0</td>\n",
       "      <td>18.0</td>\n",
       "      <td>573.0</td>\n",
       "      <td>15.120419</td>\n",
       "      <td>...</td>\n",
       "      <td>46.0</td>\n",
       "      <td>71.0</td>\n",
       "      <td>573.0</td>\n",
       "      <td>106.080279</td>\n",
       "      <td>27.097671</td>\n",
       "      <td>0.0</td>\n",
       "      <td>93.0</td>\n",
       "      <td>111.0</td>\n",
       "      <td>124.0</td>\n",
       "      <td>182.0</td>\n",
       "    </tr>\n",
       "  </tbody>\n",
       "</table>\n",
       "<p>2 rows × 40 columns</p>\n",
       "</div>"
      ],
      "text/plain": [
       "         punct_count                                               cl_count  \\\n",
       "               count      mean       std  min  25%  50%  75%   max    count   \n",
       "Category                                                                      \n",
       "0              996.0  3.629518  3.465304  0.0  1.0  3.0  5.0  30.0    996.0   \n",
       "1              573.0  5.467714  3.233525  0.0  3.0  5.0  8.0  18.0    573.0   \n",
       "\n",
       "                     ... st_word_count        length                         \\\n",
       "               mean  ...           75%    max  count        mean        std   \n",
       "Category             ...                                                      \n",
       "0          3.788153  ...          33.0  289.0  996.0   65.428715  53.773132   \n",
       "1         15.120419  ...          46.0   71.0  573.0  106.080279  27.097671   \n",
       "\n",
       "                                          \n",
       "          min   25%    50%    75%    max  \n",
       "Category                                  \n",
       "0         2.0  30.0   49.0   87.0  879.0  \n",
       "1         0.0  93.0  111.0  124.0  182.0  \n",
       "\n",
       "[2 rows x 40 columns]"
      ]
     },
     "execution_count": 75,
     "metadata": {},
     "output_type": "execute_result"
    }
   ],
   "source": [
    "spam_data.groupby(\"Category\").describe()"
   ]
  },
  {
   "cell_type": "code",
   "execution_count": 76,
   "id": "bfb34481",
   "metadata": {
    "id": "bfb34481",
    "outputId": "9b16d972-7744-4ef1-e259-7c510f699e91"
   },
   "outputs": [
    {
     "data": {
      "text/plain": [
       "count     1569\n",
       "unique    1569\n",
       "top           \n",
       "freq         1\n",
       "Name: Message, dtype: object"
      ]
     },
     "execution_count": 76,
     "metadata": {},
     "output_type": "execute_result"
    }
   ],
   "source": [
    "spam_data[\"Message\"].describe()"
   ]
  },
  {
   "cell_type": "code",
   "execution_count": 77,
   "id": "0160215b",
   "metadata": {
    "id": "0160215b"
   },
   "outputs": [],
   "source": [
    "features = list(\n",
    "    set(spam_data.columns)\n",
    "    - {\n",
    "        \"Category\",\n",
    "        \"Message\",\n",
    "    })\n",
    "spam_data[features] = spam_data[features].apply(np.log1p)"
   ]
  },
  {
   "cell_type": "code",
   "execution_count": 78,
   "id": "03dd365d",
   "metadata": {
    "id": "03dd365d",
    "outputId": "b80be93b-fe19-4029-bad8-fdf273914139"
   },
   "outputs": [
    {
     "data": {
      "text/html": [
       "<div>\n",
       "<style scoped>\n",
       "    .dataframe tbody tr th:only-of-type {\n",
       "        vertical-align: middle;\n",
       "    }\n",
       "\n",
       "    .dataframe tbody tr th {\n",
       "        vertical-align: top;\n",
       "    }\n",
       "\n",
       "    .dataframe thead tr th {\n",
       "        text-align: left;\n",
       "    }\n",
       "\n",
       "    .dataframe thead tr:last-of-type th {\n",
       "        text-align: right;\n",
       "    }\n",
       "</style>\n",
       "<table border=\"1\" class=\"dataframe\">\n",
       "  <thead>\n",
       "    <tr>\n",
       "      <th></th>\n",
       "      <th colspan=\"8\" halign=\"left\">punct_count</th>\n",
       "      <th colspan=\"2\" halign=\"left\">cl_count</th>\n",
       "      <th>...</th>\n",
       "      <th colspan=\"2\" halign=\"left\">st_word_count</th>\n",
       "      <th colspan=\"8\" halign=\"left\">length</th>\n",
       "    </tr>\n",
       "    <tr>\n",
       "      <th></th>\n",
       "      <th>count</th>\n",
       "      <th>mean</th>\n",
       "      <th>std</th>\n",
       "      <th>min</th>\n",
       "      <th>25%</th>\n",
       "      <th>50%</th>\n",
       "      <th>75%</th>\n",
       "      <th>max</th>\n",
       "      <th>count</th>\n",
       "      <th>mean</th>\n",
       "      <th>...</th>\n",
       "      <th>75%</th>\n",
       "      <th>max</th>\n",
       "      <th>count</th>\n",
       "      <th>mean</th>\n",
       "      <th>std</th>\n",
       "      <th>min</th>\n",
       "      <th>25%</th>\n",
       "      <th>50%</th>\n",
       "      <th>75%</th>\n",
       "      <th>max</th>\n",
       "    </tr>\n",
       "    <tr>\n",
       "      <th>Category</th>\n",
       "      <th></th>\n",
       "      <th></th>\n",
       "      <th></th>\n",
       "      <th></th>\n",
       "      <th></th>\n",
       "      <th></th>\n",
       "      <th></th>\n",
       "      <th></th>\n",
       "      <th></th>\n",
       "      <th></th>\n",
       "      <th></th>\n",
       "      <th></th>\n",
       "      <th></th>\n",
       "      <th></th>\n",
       "      <th></th>\n",
       "      <th></th>\n",
       "      <th></th>\n",
       "      <th></th>\n",
       "      <th></th>\n",
       "      <th></th>\n",
       "      <th></th>\n",
       "    </tr>\n",
       "  </thead>\n",
       "  <tbody>\n",
       "    <tr>\n",
       "      <th>0</th>\n",
       "      <td>996.0</td>\n",
       "      <td>1.300253</td>\n",
       "      <td>0.684935</td>\n",
       "      <td>0.0</td>\n",
       "      <td>0.693147</td>\n",
       "      <td>1.386294</td>\n",
       "      <td>1.791759</td>\n",
       "      <td>3.433987</td>\n",
       "      <td>996.0</td>\n",
       "      <td>1.175051</td>\n",
       "      <td>...</td>\n",
       "      <td>3.526361</td>\n",
       "      <td>5.669881</td>\n",
       "      <td>996.0</td>\n",
       "      <td>3.951613</td>\n",
       "      <td>0.704368</td>\n",
       "      <td>1.098612</td>\n",
       "      <td>3.433987</td>\n",
       "      <td>3.912023</td>\n",
       "      <td>4.477337</td>\n",
       "      <td>6.779922</td>\n",
       "    </tr>\n",
       "    <tr>\n",
       "      <th>1</th>\n",
       "      <td>573.0</td>\n",
       "      <td>1.720023</td>\n",
       "      <td>0.585687</td>\n",
       "      <td>0.0</td>\n",
       "      <td>1.386294</td>\n",
       "      <td>1.791759</td>\n",
       "      <td>2.197225</td>\n",
       "      <td>2.944439</td>\n",
       "      <td>573.0</td>\n",
       "      <td>2.509510</td>\n",
       "      <td>...</td>\n",
       "      <td>3.850148</td>\n",
       "      <td>4.276666</td>\n",
       "      <td>573.0</td>\n",
       "      <td>4.619678</td>\n",
       "      <td>0.406322</td>\n",
       "      <td>0.000000</td>\n",
       "      <td>4.543295</td>\n",
       "      <td>4.718499</td>\n",
       "      <td>4.828314</td>\n",
       "      <td>5.209486</td>\n",
       "    </tr>\n",
       "  </tbody>\n",
       "</table>\n",
       "<p>2 rows × 40 columns</p>\n",
       "</div>"
      ],
      "text/plain": [
       "         punct_count                                                         \\\n",
       "               count      mean       std  min       25%       50%       75%   \n",
       "Category                                                                      \n",
       "0              996.0  1.300253  0.684935  0.0  0.693147  1.386294  1.791759   \n",
       "1              573.0  1.720023  0.585687  0.0  1.386294  1.791759  2.197225   \n",
       "\n",
       "                   cl_count            ... st_word_count           length  \\\n",
       "               max    count      mean  ...           75%       max  count   \n",
       "Category                               ...                                  \n",
       "0         3.433987    996.0  1.175051  ...      3.526361  5.669881  996.0   \n",
       "1         2.944439    573.0  2.509510  ...      3.850148  4.276666  573.0   \n",
       "\n",
       "                                                                                \n",
       "              mean       std       min       25%       50%       75%       max  \n",
       "Category                                                                        \n",
       "0         3.951613  0.704368  1.098612  3.433987  3.912023  4.477337  6.779922  \n",
       "1         4.619678  0.406322  0.000000  4.543295  4.718499  4.828314  5.209486  \n",
       "\n",
       "[2 rows x 40 columns]"
      ]
     },
     "execution_count": 78,
     "metadata": {},
     "output_type": "execute_result"
    }
   ],
   "source": [
    "spam_data.groupby(\"Category\").describe()"
   ]
  },
  {
   "cell_type": "code",
   "execution_count": 79,
   "id": "8dac2571",
   "metadata": {
    "id": "8dac2571",
    "outputId": "d2fba2eb-f2b8-4375-90cd-2893a02ea88c"
   },
   "outputs": [
    {
     "data": {
      "text/html": [
       "<div>\n",
       "<style scoped>\n",
       "    .dataframe tbody tr th:only-of-type {\n",
       "        vertical-align: middle;\n",
       "    }\n",
       "\n",
       "    .dataframe tbody tr th {\n",
       "        vertical-align: top;\n",
       "    }\n",
       "\n",
       "    .dataframe thead th {\n",
       "        text-align: right;\n",
       "    }\n",
       "</style>\n",
       "<table border=\"1\" class=\"dataframe\">\n",
       "  <thead>\n",
       "    <tr style=\"text-align: right;\">\n",
       "      <th></th>\n",
       "      <th>Category</th>\n",
       "      <th>Message</th>\n",
       "      <th>punct_count</th>\n",
       "      <th>cl_count</th>\n",
       "      <th>nums_count</th>\n",
       "      <th>st_word_count</th>\n",
       "      <th>length</th>\n",
       "    </tr>\n",
       "  </thead>\n",
       "  <tbody>\n",
       "    <tr>\n",
       "      <th>0</th>\n",
       "      <td>1</td>\n",
       "      <td>free entry in wkly comp to win fa cup final tk...</td>\n",
       "      <td>1.945910</td>\n",
       "      <td>2.397895</td>\n",
       "      <td>3.258097</td>\n",
       "      <td>3.737670</td>\n",
       "      <td>4.691348</td>\n",
       "    </tr>\n",
       "    <tr>\n",
       "      <th>1</th>\n",
       "      <td>1</td>\n",
       "      <td>freemsg hey there darling it been week now and...</td>\n",
       "      <td>2.197225</td>\n",
       "      <td>2.079442</td>\n",
       "      <td>1.609438</td>\n",
       "      <td>3.713572</td>\n",
       "      <td>4.852030</td>\n",
       "    </tr>\n",
       "    <tr>\n",
       "      <th>2</th>\n",
       "      <td>1</td>\n",
       "      <td>winner as valued network customer you have bee...</td>\n",
       "      <td>1.945910</td>\n",
       "      <td>2.564949</td>\n",
       "      <td>2.995732</td>\n",
       "      <td>3.761200</td>\n",
       "      <td>4.820282</td>\n",
       "    </tr>\n",
       "    <tr>\n",
       "      <th>3</th>\n",
       "      <td>1</td>\n",
       "      <td>had your mobile months or more entitled to upd...</td>\n",
       "      <td>1.098612</td>\n",
       "      <td>2.708050</td>\n",
       "      <td>2.639057</td>\n",
       "      <td>3.970292</td>\n",
       "      <td>4.897840</td>\n",
       "    </tr>\n",
       "    <tr>\n",
       "      <th>4</th>\n",
       "      <td>1</td>\n",
       "      <td>six chances to win cash from to pounds txt and...</td>\n",
       "      <td>2.197225</td>\n",
       "      <td>2.890372</td>\n",
       "      <td>3.135494</td>\n",
       "      <td>3.713572</td>\n",
       "      <td>4.521789</td>\n",
       "    </tr>\n",
       "  </tbody>\n",
       "</table>\n",
       "</div>"
      ],
      "text/plain": [
       "   Category                                            Message  punct_count  \\\n",
       "0         1  free entry in wkly comp to win fa cup final tk...     1.945910   \n",
       "1         1  freemsg hey there darling it been week now and...     2.197225   \n",
       "2         1  winner as valued network customer you have bee...     1.945910   \n",
       "3         1  had your mobile months or more entitled to upd...     1.098612   \n",
       "4         1  six chances to win cash from to pounds txt and...     2.197225   \n",
       "\n",
       "   cl_count  nums_count  st_word_count    length  \n",
       "0  2.397895    3.258097       3.737670  4.691348  \n",
       "1  2.079442    1.609438       3.713572  4.852030  \n",
       "2  2.564949    2.995732       3.761200  4.820282  \n",
       "3  2.708050    2.639057       3.970292  4.897840  \n",
       "4  2.890372    3.135494       3.713572  4.521789  "
      ]
     },
     "execution_count": 79,
     "metadata": {},
     "output_type": "execute_result"
    }
   ],
   "source": [
    "spam_data.head(5)"
   ]
  },
  {
   "cell_type": "code",
   "execution_count": 80,
   "id": "faad383d",
   "metadata": {
    "id": "faad383d",
    "outputId": "38d287e1-822d-4f49-f0c2-3515400918a3"
   },
   "outputs": [
    {
     "data": {
      "image/png": "[encoded data removed]",
      "text/plain": [
       "<Figure size 1700x400 with 2 Axes>"
      ]
     },
     "metadata": {
      "needs_background": "light"
     },
     "output_type": "display_data"
    }
   ],
   "source": [
    "fig, axes = plt.subplots(ncols=2, figsize=(17, 4), dpi=100)\n",
    "plt.tight_layout()\n",
    "\n",
    "spam_data.groupby('Category')['Message'].count().plot(kind='pie', ax=axes[0], labels=['Ham', 'Spam'], \n",
    "                                           shadow=True, explode=[0,0.1], autopct='%1.1f%%')\n",
    "sns.countplot(x=spam_data['Category'], hue=spam_data['Category'], ax=axes[1])\n",
    "\n",
    "axes[0].set_ylabel('')\n",
    "axes[1].set_ylabel('')\n",
    "axes[1].set_xticklabels(['Ham', 'Spam'])\n",
    "axes[0].tick_params(axis='x', labelsize=15)\n",
    "axes[0].tick_params(axis='y', labelsize=15)\n",
    "axes[1].tick_params(axis='x', labelsize=15)\n",
    "axes[1].tick_params(axis='y', labelsize=15)\n",
    "\n",
    "axes[0].set_title('Target Distribution', fontsize=13)\n",
    "axes[1].set_title('Target Count', fontsize=13)\n",
    "\n",
    "plt.show()"
   ]
  },
  {
   "cell_type": "code",
   "execution_count": 81,
   "id": "514bac13",
   "metadata": {
    "id": "514bac13"
   },
   "outputs": [],
   "source": [
    "#Get features from Columns"
   ]
  },
  {
   "cell_type": "code",
   "execution_count": 82,
   "id": "c1229481",
   "metadata": {
    "id": "c1229481",
    "outputId": "0b01a5b8-f2b6-4e6e-b840-6c72c1435685"
   },
   "outputs": [
    {
     "data": {
      "text/plain": [
       "Index(['Category', 'Message', 'punct_count', 'cl_count', 'nums_count',\n",
       "       'st_word_count', 'length'],\n",
       "      dtype='object')"
      ]
     },
     "execution_count": 82,
     "metadata": {},
     "output_type": "execute_result"
    }
   ],
   "source": [
    "spam_data.columns"
   ]
  },
  {
   "cell_type": "code",
   "execution_count": 83,
   "id": "9bace78c",
   "metadata": {
    "id": "9bace78c",
    "outputId": "37079bbe-3030-43f4-e452-b8071d3dd485"
   },
   "outputs": [
    {
     "data": {
      "image/png": "[encoded data removed]",
      "text/plain": [
       "<Figure size 864x576 with 2 Axes>"
      ]
     },
     "metadata": {
      "needs_background": "light"
     },
     "output_type": "display_data"
    }
   ],
   "source": [
    "features = list(\n",
    "    set(spam_data.columns)\n",
    "    - {\n",
    "        \"Category\",\n",
    "        \"Message\",\n",
    "    }\n",
    ")\n",
    "\n",
    "plt.figure(figsize=(12, 8))\n",
    "# Calculate and plot\n",
    "corr_matrix = spam_data[features].corr()\n",
    "sns.heatmap(corr_matrix, linewidths=.5, annot=True);"
   ]
  },
  {
   "cell_type": "code",
   "execution_count": 84,
   "id": "5baf39a7",
   "metadata": {
    "id": "5baf39a7",
    "outputId": "f7c075bf-e1e4-4e52-f3d1-e9a47191ba33"
   },
   "outputs": [
    {
     "name": "stderr",
     "output_type": "stream",
     "text": [
      "C:\\Users\\tejes\\anaconda3\\lib\\site-packages\\seaborn\\_decorators.py:36: FutureWarning: Pass the following variables as keyword args: x, y. From version 0.12, the only valid positional argument will be `data`, and passing other arguments without an explicit keyword will result in an error or misinterpretation.\n",
      "  warnings.warn(\n"
     ]
    },
    {
     "data": {
      "text/plain": [
       "<seaborn.axisgrid.FacetGrid at 0x1c9bf5c2880>"
      ]
     },
     "execution_count": 84,
     "metadata": {},
     "output_type": "execute_result"
    },
    {
     "data": {
      "image/png": "[encoded data removed]",
      "text/plain": [
       "<Figure size 864x576 with 2 Axes>"
      ]
     },
     "metadata": {
      "needs_background": "light"
     },
     "output_type": "display_data"
    },
    {
     "data": {
      "image/png": "[encoded data removed]",
      "text/plain": [
       "<Figure size 413.375x360 with 1 Axes>"
      ]
     },
     "metadata": {
      "needs_background": "light"
     },
     "output_type": "display_data"
    }
   ],
   "source": [
    "fig, axes = plt.subplots(nrows=1, ncols=2, figsize=(12, 8))\n",
    "sns.histplot(spam_data, ax=axes[0], x=\"st_word_count\", hue = \"Category\")\n",
    "axes[0].set_ylabel(\"st_word_count\")\n",
    "sns.histplot(spam_data, ax=axes[1], x=\"length\", hue = \"Category\")\n",
    "axes[1].set_ylabel(\"length\")\n",
    "sns.lmplot(\"st_word_count\", \"length\", data=spam_data, hue=\"Category\", fit_reg=False)"
   ]
  },
  {
   "cell_type": "code",
   "execution_count": 85,
   "id": "9abd6726",
   "metadata": {
    "id": "9abd6726"
   },
   "outputs": [],
   "source": [
    "spam_data.drop('length',axis = 1, inplace=True)"
   ]
  },
  {
   "cell_type": "code",
   "execution_count": 86,
   "id": "eafb03d7",
   "metadata": {
    "id": "eafb03d7",
    "outputId": "b715c358-f01a-4fb7-95bb-ed6e73b02a6d"
   },
   "outputs": [
    {
     "data": {
      "image/png": "[encoded data removed]",
      "text/plain": [
       "<Figure size 720x504 with 4 Axes>"
      ]
     },
     "metadata": {
      "needs_background": "light"
     },
     "output_type": "display_data"
    }
   ],
   "source": [
    "features = list(\n",
    "    set(spam_data.columns)\n",
    "    - {\n",
    "        \"Category\",\n",
    "        \"Message\",\n",
    "    }\n",
    ")\n",
    "\n",
    "fig, axes = plt.subplots(nrows=2, ncols=2, figsize=(10, 7))\n",
    "for idx, feat in enumerate(features):\n",
    "    ax = axes[int(idx / 2), idx % 2]\n",
    "    sns.boxplot(x=\"Category\", y=feat, data=spam_data, ax=ax)\n",
    "    ax.set_xlabel(\"\")\n",
    "    ax.set_ylabel(feat)\n",
    "fig.tight_layout();"
   ]
  },
  {
   "cell_type": "code",
   "execution_count": 87,
   "id": "f0a79271",
   "metadata": {
    "id": "f0a79271",
    "outputId": "b372c66a-f70c-447d-b428-7158d1a68a01"
   },
   "outputs": [
    {
     "data": {
      "text/plain": [
       "<StringArray>\n",
       "[]\n",
       "Length: 0, dtype: string"
      ]
     },
     "execution_count": 87,
     "metadata": {},
     "output_type": "execute_result"
    }
   ],
   "source": [
    "spam_data[spam_data[\"cl_count\"] >= 9][\"Message\"].values"
   ]
  },
  {
   "cell_type": "code",
   "execution_count": 88,
   "id": "74e21dda",
   "metadata": {
    "id": "74e21dda",
    "outputId": "e168d7ea-323a-4f82-8c3d-894b2c7eab04"
   },
   "outputs": [
    {
     "data": {
      "text/plain": [
       "(1569, 6)"
      ]
     },
     "execution_count": 88,
     "metadata": {},
     "output_type": "execute_result"
    }
   ],
   "source": [
    "spam_data.shape"
   ]
  },
  {
   "cell_type": "code",
   "execution_count": 89,
   "id": "98c664e9",
   "metadata": {
    "id": "98c664e9",
    "outputId": "f9992003-7b73-42bb-ef77-340a4d6c97f9"
   },
   "outputs": [
    {
     "data": {
      "text/html": [
       "<div>\n",
       "<style scoped>\n",
       "    .dataframe tbody tr th:only-of-type {\n",
       "        vertical-align: middle;\n",
       "    }\n",
       "\n",
       "    .dataframe tbody tr th {\n",
       "        vertical-align: top;\n",
       "    }\n",
       "\n",
       "    .dataframe thead th {\n",
       "        text-align: right;\n",
       "    }\n",
       "</style>\n",
       "<table border=\"1\" class=\"dataframe\">\n",
       "  <thead>\n",
       "    <tr style=\"text-align: right;\">\n",
       "      <th></th>\n",
       "      <th>cl_count</th>\n",
       "      <th>nums_count</th>\n",
       "      <th>punct_count</th>\n",
       "      <th>st_word_count</th>\n",
       "    </tr>\n",
       "  </thead>\n",
       "  <tbody>\n",
       "    <tr>\n",
       "      <th>0</th>\n",
       "      <td>0.767846</td>\n",
       "      <td>1.758359</td>\n",
       "      <td>0.723261</td>\n",
       "      <td>0.714319</td>\n",
       "    </tr>\n",
       "    <tr>\n",
       "      <th>1</th>\n",
       "      <td>0.435387</td>\n",
       "      <td>0.481633</td>\n",
       "      <td>1.092437</td>\n",
       "      <td>0.679049</td>\n",
       "    </tr>\n",
       "    <tr>\n",
       "      <th>2</th>\n",
       "      <td>0.942247</td>\n",
       "      <td>1.555184</td>\n",
       "      <td>0.723261</td>\n",
       "      <td>0.748759</td>\n",
       "    </tr>\n",
       "    <tr>\n",
       "      <th>3</th>\n",
       "      <td>1.091641</td>\n",
       "      <td>1.278973</td>\n",
       "      <td>0.521401</td>\n",
       "      <td>1.054794</td>\n",
       "    </tr>\n",
       "    <tr>\n",
       "      <th>4</th>\n",
       "      <td>1.281981</td>\n",
       "      <td>1.663416</td>\n",
       "      <td>1.092437</td>\n",
       "      <td>0.679049</td>\n",
       "    </tr>\n",
       "  </tbody>\n",
       "</table>\n",
       "</div>"
      ],
      "text/plain": [
       "   cl_count  nums_count  punct_count  st_word_count\n",
       "0  0.767846    1.758359     0.723261       0.714319\n",
       "1  0.435387    0.481633     1.092437       0.679049\n",
       "2  0.942247    1.555184     0.723261       0.748759\n",
       "3  1.091641    1.278973     0.521401       1.054794\n",
       "4  1.281981    1.663416     1.092437       0.679049"
      ]
     },
     "execution_count": 89,
     "metadata": {},
     "output_type": "execute_result"
    }
   ],
   "source": [
    "from scipy import stats\n",
    "zf = pd.DataFrame(np.abs(stats.zscore(spam_data[features])), columns= features)\n",
    "zf.head(5)"
   ]
  },
  {
   "cell_type": "code",
   "execution_count": 90,
   "id": "a637d9fd",
   "metadata": {
    "id": "a637d9fd"
   },
   "outputs": [],
   "source": [
    "z_out = zf[(zf < 3).all(axis=1)]"
   ]
  },
  {
   "cell_type": "code",
   "execution_count": 91,
   "id": "44846a9a",
   "metadata": {
    "id": "44846a9a",
    "outputId": "d7697c31-805b-4f0a-bb6b-89e3133f2d01"
   },
   "outputs": [
    {
     "data": {
      "text/plain": [
       "(1547, 4)"
      ]
     },
     "execution_count": 91,
     "metadata": {},
     "output_type": "execute_result"
    }
   ],
   "source": [
    "z_out.shape"
   ]
  },
  {
   "cell_type": "code",
   "execution_count": 92,
   "id": "9423cb29",
   "metadata": {
    "id": "9423cb29"
   },
   "outputs": [],
   "source": [
    "spam_data = spam_data[(np.abs(stats.zscore(spam_data[features])) < 3).all(axis=1)]"
   ]
  },
  {
   "cell_type": "code",
   "execution_count": 93,
   "id": "481bfead",
   "metadata": {
    "id": "481bfead",
    "outputId": "e68909b7-9e5b-43b7-8046-c97f2ce54f7b"
   },
   "outputs": [
    {
     "data": {
      "text/plain": [
       "(1547, 6)"
      ]
     },
     "execution_count": 93,
     "metadata": {},
     "output_type": "execute_result"
    }
   ],
   "source": [
    "spam_data.shape"
   ]
  },
  {
   "cell_type": "code",
   "execution_count": 94,
   "id": "2af09cae",
   "metadata": {
    "id": "2af09cae",
    "outputId": "bf2c1d29-0272-4189-c108-f73fc80f8b5b",
    "scrolled": true
   },
   "outputs": [
    {
     "data": {
      "image/png": "[encoded data removed]",
      "text/plain": [
       "<Figure size 720x504 with 4 Axes>"
      ]
     },
     "metadata": {
      "needs_background": "light"
     },
     "output_type": "display_data"
    }
   ],
   "source": [
    "fig, axes = plt.subplots(nrows=2, ncols=2, figsize=(10, 7))\n",
    "for idx, feat in enumerate(features):\n",
    "    ax = axes[int(idx / 2), idx % 2]\n",
    "    sns.boxplot(x=\"Category\", y=feat, data=spam_data, ax=ax)\n",
    "    ax.set_xlabel(\"\")\n",
    "    ax.set_ylabel(feat)\n",
    "fig.tight_layout();"
   ]
  },
  {
   "cell_type": "code",
   "execution_count": 95,
   "id": "45df73ce",
   "metadata": {
    "id": "45df73ce",
    "outputId": "30d84357-0d6d-4e65-a9ce-ec7e93c55682",
    "scrolled": true
   },
   "outputs": [
    {
     "data": {
      "image/png": "[encoded data removed]",
      "text/plain": [
       "<Figure size 1008x648 with 4 Axes>"
      ]
     },
     "metadata": {
      "needs_background": "light"
     },
     "output_type": "display_data"
    }
   ],
   "source": [
    "fig, axes = plt.subplots(nrows=2, ncols=2, figsize=(14, 9))\n",
    "for idx, feat in enumerate(features):\n",
    "    ax = axes[int(idx / 2), idx % 2]\n",
    "    sns.histplot(spam_data, ax=ax, x=feat, hue = \"Category\")\n",
    "    ax.set_xlabel(\"\")\n",
    "    ax.set_ylabel(feat)\n",
    "fig.tight_layout();"
   ]
  },
  {
   "cell_type": "code",
   "execution_count": 96,
   "id": "810d8f22",
   "metadata": {
    "id": "810d8f22",
    "outputId": "00265fce-bbeb-4568-ee1f-e5aaec9eeb54"
   },
   "outputs": [
    {
     "data": {
      "text/plain": [
       "<AxesSubplot:xlabel='Category', ylabel='cl_count'>"
      ]
     },
     "execution_count": 96,
     "metadata": {},
     "output_type": "execute_result"
    },
    {
     "data": {
      "image/png": "[encoded data removed]",
      "text/plain": [
       "<Figure size 864x576 with 2 Axes>"
      ]
     },
     "metadata": {
      "needs_background": "light"
     },
     "output_type": "display_data"
    }
   ],
   "source": [
    "fig, axes = plt.subplots(nrows=1, ncols=2, figsize=(12, 8))\n",
    "axes[0].set_xlim([1,10])\n",
    "axes[0].set_ylim([0,400])\n",
    "sns.histplot(spam_data, ax=axes[0], x=\"cl_count\", hue = \"Category\")\n",
    "sns.violinplot(x=\"Category\", y=\"cl_count\", hue=\"Category\",\n",
    "               data=spam_data, palette=\"Set2\", split=True,\n",
    "               scale=\"count\", inner=\"quartile\", ax=axes[1])"
   ]
  },
  {
   "cell_type": "code",
   "execution_count": 97,
   "id": "fe7511ee",
   "metadata": {
    "id": "fe7511ee",
    "outputId": "34cd075a-3b2a-4ebc-f629-88816e2b27df"
   },
   "outputs": [
    {
     "data": {
      "text/plain": [
       "0    0.693147\n",
       "dtype: float64"
      ]
     },
     "execution_count": 97,
     "metadata": {},
     "output_type": "execute_result"
    }
   ],
   "source": [
    "#mode of our feature\n",
    "spam_data['cl_count'].mode()"
   ]
  },
  {
   "cell_type": "code",
   "execution_count": 98,
   "id": "a22076ad",
   "metadata": {
    "id": "a22076ad",
    "outputId": "080cfa6f-ca5a-4e87-a4bd-3a6e787aa26c"
   },
   "outputs": [
    {
     "data": {
      "text/plain": [
       "Category\n",
       "0    390\n",
       "1     13\n",
       "Name: cl_count, dtype: int64"
      ]
     },
     "execution_count": 98,
     "metadata": {},
     "output_type": "execute_result"
    }
   ],
   "source": [
    "values = spam_data[spam_data[\"cl_count\"] == spam_data['cl_count'].mode()[0]].groupby('Category')[\"cl_count\"].count()\n",
    "values"
   ]
  },
  {
   "cell_type": "code",
   "execution_count": 99,
   "id": "1c200c50",
   "metadata": {
    "id": "1c200c50",
    "outputId": "7fb79f06-7d5b-44a9-fe12-c7cd7131548e"
   },
   "outputs": [
    {
     "data": {
      "text/plain": [
       "Text(0.5, 1.0, 'Others by target')"
      ]
     },
     "execution_count": 99,
     "metadata": {},
     "output_type": "execute_result"
    },
    {
     "data": {
      "image/png": "[encoded data removed]",
      "text/plain": [
       "<Figure size 1700x400 with 3 Axes>"
      ]
     },
     "metadata": {},
     "output_type": "display_data"
    }
   ],
   "source": [
    "fig, axes = plt.subplots(ncols=3, figsize=(17, 4), dpi=100)\n",
    "plt.tight_layout()\n",
    "\n",
    "spam_data.groupby('Category')['cl_count'].count().plot(kind='pie', ax=axes[0], labels=['Ham', 'Spam'], \n",
    "                                           shadow=True, explode=[0,0.1], autopct='%1.1f%%')\n",
    "\n",
    "spam_data[spam_data[\"cl_count\"] == spam_data['cl_count'].mode()[0]].groupby('Category')[\"cl_count\"].count().plot(kind='pie', \n",
    "                                                                    ax=axes[1], labels=['Ham', 'Spam'], \n",
    "                                                                    shadow=True, explode=[0,0.1], autopct='%1.1f%%')\n",
    "\n",
    "spam_data[spam_data[\"cl_count\"] != spam_data['cl_count'].mode()[0]].groupby('Category')[\"cl_count\"].count().plot(kind='pie', \n",
    "                                                                    ax=axes[2], labels=['Ham', 'Spam'], \n",
    "                                                                    shadow=True, explode=[0,0.1], autopct='%1.1f%%')\n",
    "    \n",
    "axes[0].set_title('Target Distribution', fontsize=13)\n",
    "axes[1].set_title('Mode by target', fontsize=13)\n",
    "axes[2].set_title('Others by target', fontsize=13)"
   ]
  },
  {
   "cell_type": "code",
   "execution_count": 100,
   "id": "b0c5326b",
   "metadata": {
    "id": "b0c5326b",
    "outputId": "73a77c46-6b25-4679-da35-e11c4fc427de"
   },
   "outputs": [
    {
     "data": {
      "text/plain": [
       "Text(0.5, 1.0, 'Others by target')"
      ]
     },
     "execution_count": 100,
     "metadata": {},
     "output_type": "execute_result"
    },
    {
     "data": {
      "image/png": "[encoded data removed]",
      "text/plain": [
       "<Figure size 1700x400 with 3 Axes>"
      ]
     },
     "metadata": {},
     "output_type": "display_data"
    }
   ],
   "source": [
    "fig, axes = plt.subplots(ncols=3, figsize=(17, 4), dpi=100)\n",
    "plt.tight_layout()\n",
    "\n",
    "spam_data.groupby('Category')['nums_count'].count().plot(kind='pie', ax=axes[0], labels=['Ham', 'Spam'], \n",
    "                                           shadow=True, explode=[0,0.1], autopct='%1.1f%%')\n",
    "\n",
    "spam_data[spam_data[\"nums_count\"] == spam_data['nums_count'].mode()[0]].groupby('Category')[\"nums_count\"].count().plot(kind='pie', \n",
    "                                                                    ax=axes[1], labels=['Ham', 'Spam'], \n",
    "                                                                    shadow=True, explode=[0,0.1], autopct='%1.1f%%')\n",
    "\n",
    "spam_data[spam_data[\"nums_count\"] != spam_data['nums_count'].mode()[0]].groupby('Category')[\"nums_count\"].count().plot(kind='pie', \n",
    "                                                                    ax=axes[2], labels=['Ham', 'Spam'], \n",
    "                                                                    shadow=True, explode=[0,0.1], autopct='%1.1f%%')\n",
    "    \n",
    "axes[0].set_title('Target Distribution', fontsize=13)\n",
    "axes[1].set_title('Mode by target', fontsize=13)\n",
    "axes[2].set_title('Others by target', fontsize=13)"
   ]
  },
  {
   "cell_type": "code",
   "execution_count": 101,
   "id": "5aa1178b",
   "metadata": {
    "id": "5aa1178b",
    "outputId": "70fd0d0f-0888-4497-a2ae-8ff0ad7f847c"
   },
   "outputs": [
    {
     "data": {
      "image/png": "[encoded data removed]",
      "text/plain": [
       "<Figure size 864x576 with 2 Axes>"
      ]
     },
     "metadata": {
      "needs_background": "light"
     },
     "output_type": "display_data"
    }
   ],
   "source": [
    "features.append(\"Category\")\n",
    "\n",
    "plt.figure(figsize=(12, 8))\n",
    "# Calculate and plot\n",
    "corr_matrix = spam_data[features].corr()\n",
    "sns.heatmap(corr_matrix, linewidths=.5, annot=True);"
   ]
  },
  {
   "cell_type": "code",
   "execution_count": 102,
   "id": "5e47b017",
   "metadata": {
    "id": "5e47b017",
    "outputId": "aabfe430-54b0-479e-e042-3f7a7b15d789"
   },
   "outputs": [
    {
     "data": {
      "text/plain": [
       "<StringArray>\n",
       "['free entry in wkly comp to win fa cup final tkts may text fa to to receive entry question std txt rate apply', 'freemsg hey there darling it been week now and no word back like some fun you up for it still tb ok xxx std chgs to send to rcv']\n",
       "Length: 2, dtype: string"
      ]
     },
     "execution_count": 102,
     "metadata": {},
     "output_type": "execute_result"
    }
   ],
   "source": [
    "test_text = spam_data[\"Message\"].values[0:2]\n",
    "test_text"
   ]
  },
  {
   "cell_type": "code",
   "execution_count": 103,
   "id": "651d86c4",
   "metadata": {
    "id": "651d86c4",
    "outputId": "05b939bd-3ced-4102-e974-db17189c43a7"
   },
   "outputs": [
    {
     "name": "stderr",
     "output_type": "stream",
     "text": [
      "[nltk_data] Downloading package punkt to\n",
      "[nltk_data]     C:\\Users\\tejes\\AppData\\Roaming\\nltk_data...\n",
      "[nltk_data]   Package punkt is already up-to-date!\n"
     ]
    },
    {
     "data": {
      "text/plain": [
       "True"
      ]
     },
     "execution_count": 103,
     "metadata": {},
     "output_type": "execute_result"
    }
   ],
   "source": [
    "nltk.download('punkt')"
   ]
  },
  {
   "cell_type": "code",
   "execution_count": 104,
   "id": "82644479",
   "metadata": {
    "id": "82644479",
    "outputId": "cbf3af83-058d-41fb-8215-5150452782f6"
   },
   "outputs": [
    {
     "data": {
      "text/plain": [
       "[['free',\n",
       "  'entry',\n",
       "  'in',\n",
       "  'wkly',\n",
       "  'comp',\n",
       "  'to',\n",
       "  'win',\n",
       "  'fa',\n",
       "  'cup',\n",
       "  'final',\n",
       "  'tkts',\n",
       "  'may',\n",
       "  'text',\n",
       "  'fa',\n",
       "  'to',\n",
       "  'to',\n",
       "  'receive',\n",
       "  'entry',\n",
       "  'question',\n",
       "  'std',\n",
       "  'txt',\n",
       "  'rate',\n",
       "  'apply'],\n",
       " ['freemsg',\n",
       "  'hey',\n",
       "  'there',\n",
       "  'darling',\n",
       "  'it',\n",
       "  'been',\n",
       "  'week',\n",
       "  'now',\n",
       "  'and',\n",
       "  'no',\n",
       "  'word',\n",
       "  'back',\n",
       "  'like',\n",
       "  'some',\n",
       "  'fun',\n",
       "  'you',\n",
       "  'up',\n",
       "  'for',\n",
       "  'it',\n",
       "  'still',\n",
       "  'tb',\n",
       "  'ok',\n",
       "  'xxx',\n",
       "  'std',\n",
       "  'chgs',\n",
       "  'to',\n",
       "  'send',\n",
       "  'to',\n",
       "  'rcv']]"
      ]
     },
     "execution_count": 104,
     "metadata": {},
     "output_type": "execute_result"
    }
   ],
   "source": [
    "x_tokenized = [nltk.word_tokenize(text) for text in test_text]\n",
    "x_tokenized"
   ]
  },
  {
   "cell_type": "code",
   "execution_count": 105,
   "id": "7ff946eb",
   "metadata": {
    "id": "7ff946eb"
   },
   "outputs": [],
   "source": [
    "def tokenize_and_clean_stopwords(email):\n",
    "\n",
    "    email_tokens = [nltk.word_tokenize(text) for text in email]\n",
    "    \n",
    "    email_tokens_no_stopwords = \\\n",
    "        [[word for word in text if word not in stopwords] for text in email_tokens]\n",
    "        \n",
    "    return email_tokens_no_stopwords"
   ]
  },
  {
   "cell_type": "code",
   "execution_count": 106,
   "id": "e3a655a5",
   "metadata": {
    "id": "e3a655a5"
   },
   "outputs": [],
   "source": [
    "test_tokens = tokenize_and_clean_stopwords(test_text)"
   ]
  },
  {
   "cell_type": "code",
   "execution_count": 107,
   "id": "a921414e",
   "metadata": {
    "id": "a921414e",
    "outputId": "dc318e85-ec2d-4c19-b080-d7af7f70e228"
   },
   "outputs": [
    {
     "name": "stderr",
     "output_type": "stream",
     "text": [
      "[nltk_data] Downloading package wordnet to\n",
      "[nltk_data]     C:\\Users\\tejes\\AppData\\Roaming\\nltk_data...\n",
      "[nltk_data]   Package wordnet is already up-to-date!\n"
     ]
    }
   ],
   "source": [
    "nltk.download('wordnet')\n",
    "from nltk.stem import WordNetLemmatizer\n",
    "lemma = WordNetLemmatizer()"
   ]
  },
  {
   "cell_type": "code",
   "execution_count": 108,
   "id": "b9fd65de",
   "metadata": {
    "id": "b9fd65de"
   },
   "outputs": [],
   "source": [
    "def tokenize_and_lemma(email):\n",
    "\n",
    "    email_tokens = [nltk.word_tokenize(text) for text in email]\n",
    "    \n",
    "    email_tokens_no_stopwords = \\\n",
    "        [[word for word in text if word not in stopwords] for text in email_tokens]\n",
    "        \n",
    "    email_lemm = [[lemma.lemmatize(word) for word in text] for text in email_tokens_no_stopwords]\n",
    "    \n",
    "    return email_tokens_no_stopwords"
   ]
  },
  {
   "cell_type": "code",
   "execution_count": 109,
   "id": "47b18680",
   "metadata": {
    "id": "47b18680",
    "outputId": "99f6023f-4696-4137-9b8e-b7e363327655"
   },
   "outputs": [
    {
     "data": {
      "text/plain": [
       "[['free',\n",
       "  'entry',\n",
       "  'wkly',\n",
       "  'comp',\n",
       "  'win',\n",
       "  'fa',\n",
       "  'cup',\n",
       "  'final',\n",
       "  'tkts',\n",
       "  'may',\n",
       "  'text',\n",
       "  'fa',\n",
       "  'receive',\n",
       "  'entry',\n",
       "  'question',\n",
       "  'std',\n",
       "  'txt',\n",
       "  'rate',\n",
       "  'apply'],\n",
       " ['freemsg',\n",
       "  'hey',\n",
       "  'darling',\n",
       "  'week',\n",
       "  'word',\n",
       "  'back',\n",
       "  'like',\n",
       "  'fun',\n",
       "  'still',\n",
       "  'tb',\n",
       "  'ok',\n",
       "  'xxx',\n",
       "  'std',\n",
       "  'chgs',\n",
       "  'send',\n",
       "  'rcv']]"
      ]
     },
     "execution_count": 109,
     "metadata": {},
     "output_type": "execute_result"
    }
   ],
   "source": [
    "text_lemm = tokenize_and_lemma(test_text)\n",
    "text_lemm"
   ]
  },
  {
   "cell_type": "code",
   "execution_count": 110,
   "id": "c02a34e7",
   "metadata": {
    "id": "c02a34e7"
   },
   "outputs": [],
   "source": [
    "data_ham = spam_data[spam_data[\"Category\"] == 0][\"Message\"].to_list()\n",
    "data_spam = spam_data[spam_data[\"Category\"] == 1][\"Message\"].to_list()"
   ]
  },
  {
   "cell_type": "code",
   "execution_count": 111,
   "id": "99891371",
   "metadata": {
    "id": "99891371"
   },
   "outputs": [],
   "source": [
    "words_ham = tokenize_and_lemma(data_ham)\n",
    "words_spam = tokenize_and_lemma(data_spam)"
   ]
  },
  {
   "cell_type": "code",
   "execution_count": 112,
   "id": "362852fa",
   "metadata": {
    "id": "362852fa",
    "outputId": "0ddee456-bbe8-4e4a-a1c5-bfb789a06263"
   },
   "outputs": [
    {
     "data": {
      "text/plain": [
       "0    980\n",
       "1    567\n",
       "Name: Category, dtype: int64"
      ]
     },
     "execution_count": 112,
     "metadata": {},
     "output_type": "execute_result"
    }
   ],
   "source": [
    "spam_data[\"Category\"].value_counts()"
   ]
  },
  {
   "cell_type": "code",
   "execution_count": 113,
   "id": "d80af865",
   "metadata": {
    "id": "d80af865"
   },
   "outputs": [],
   "source": [
    "list_ham_words = []\n",
    "for sublist in words_ham:\n",
    "    for item in sublist:\n",
    "        list_ham_words.append(item)"
   ]
  },
  {
   "cell_type": "code",
   "execution_count": 114,
   "id": "e4bba501",
   "metadata": {
    "id": "e4bba501"
   },
   "outputs": [],
   "source": [
    "list_spam_words = []\n",
    "for sublist in words_spam:\n",
    "    for item in sublist:\n",
    "        list_spam_words.append(item)"
   ]
  },
  {
   "cell_type": "code",
   "execution_count": 115,
   "id": "0f737d9d",
   "metadata": {
    "id": "0f737d9d"
   },
   "outputs": [],
   "source": [
    "fdist_ham  = nltk.FreqDist(list_ham_words)\n",
    "fdist_spam = nltk.FreqDist(list_spam_words)"
   ]
  },
  {
   "cell_type": "code",
   "execution_count": 116,
   "id": "1017269b",
   "metadata": {
    "id": "1017269b"
   },
   "outputs": [],
   "source": [
    "df_hamwords_top30_nltk  = pd.DataFrame(fdist_ham.most_common(30),  columns=['word', 'count'])\n",
    "df_spamwords_top30_nltk = pd.DataFrame(fdist_spam.most_common(30), columns=['word', 'count'])"
   ]
  },
  {
   "cell_type": "code",
   "execution_count": 117,
   "id": "2787a1f8",
   "metadata": {
    "id": "2787a1f8",
    "outputId": "dd38a268-1273-4d03-c4db-f177a5756847"
   },
   "outputs": [
    {
     "data": {
      "image/png": "[encoded data removed]",
      "text/plain": [
       "<Figure size 1512x1008 with 2 Axes>"
      ]
     },
     "metadata": {
      "needs_background": "light"
     },
     "output_type": "display_data"
    }
   ],
   "source": [
    "fig, axes = plt.subplots(nrows=2, figsize=(21, 14))\n",
    "#plt.tight_layout()\n",
    "\n",
    "sns.barplot(x='word', y='count', \n",
    "            data=df_hamwords_top30_nltk, ax=axes[0]);\n",
    "\n",
    "sns.barplot(x='word', y='count', \n",
    "            data=df_spamwords_top30_nltk, ax=axes[1]);\n",
    "\n",
    "axes[0].set_title('Top 30 Ham', fontsize=13)\n",
    "axes[1].set_title('Top 30 Spam', fontsize=13)\n",
    "\n",
    "plt.show()"
   ]
  },
  {
   "cell_type": "code",
   "execution_count": 118,
   "id": "972f0f62",
   "metadata": {
    "id": "972f0f62"
   },
   "outputs": [],
   "source": [
    "text_to_bow = tokenize_and_lemma(spam_data['Message'].to_list())"
   ]
  },
  {
   "cell_type": "code",
   "execution_count": 119,
   "id": "61b81a18",
   "metadata": {
    "id": "61b81a18"
   },
   "outputs": [],
   "source": [
    "del list_ham_words, list_spam_words, df_hamwords_top30_nltk, df_spamwords_top30_nltk"
   ]
  },
  {
   "cell_type": "code",
   "execution_count": 120,
   "id": "b3e47990",
   "metadata": {
    "id": "b3e47990"
   },
   "outputs": [],
   "source": [
    "from sklearn.feature_extraction.text import CountVectorizer\n",
    "vectorizer = CountVectorizer(max_features=70000)\n",
    "data_bow = vectorizer.fit_transform([\" \".join(text) for text in text_to_bow]).toarray()"
   ]
  },
  {
   "cell_type": "code",
   "execution_count": 121,
   "id": "d82d140e",
   "metadata": {
    "id": "d82d140e",
    "outputId": "c9b3afb6-8671-4528-f663-a65ea8fbb17c"
   },
   "outputs": [
    {
     "data": {
      "text/plain": [
       "(1547, 3760)"
      ]
     },
     "execution_count": 121,
     "metadata": {},
     "output_type": "execute_result"
    }
   ],
   "source": [
    "data_bow.shape"
   ]
  },
  {
   "cell_type": "code",
   "execution_count": 122,
   "id": "da26b7ef",
   "metadata": {
    "id": "da26b7ef",
    "outputId": "02b09278-a37d-47cc-f4bb-c459be5ae14f"
   },
   "outputs": [
    {
     "data": {
      "text/html": [
       "<div>\n",
       "<style scoped>\n",
       "    .dataframe tbody tr th:only-of-type {\n",
       "        vertical-align: middle;\n",
       "    }\n",
       "\n",
       "    .dataframe tbody tr th {\n",
       "        vertical-align: top;\n",
       "    }\n",
       "\n",
       "    .dataframe thead th {\n",
       "        text-align: right;\n",
       "    }\n",
       "</style>\n",
       "<table border=\"1\" class=\"dataframe\">\n",
       "  <thead>\n",
       "    <tr style=\"text-align: right;\">\n",
       "      <th></th>\n",
       "      <th>aaooooright</th>\n",
       "      <th>aathi</th>\n",
       "      <th>ab</th>\n",
       "      <th>aberdeen</th>\n",
       "      <th>ability</th>\n",
       "      <th>abiola</th>\n",
       "      <th>able</th>\n",
       "      <th>abnormally</th>\n",
       "      <th>abroad</th>\n",
       "      <th>abt</th>\n",
       "      <th>...</th>\n",
       "      <th>yr</th>\n",
       "      <th>yrs</th>\n",
       "      <th>yummy</th>\n",
       "      <th>yun</th>\n",
       "      <th>yup</th>\n",
       "      <th>zaher</th>\n",
       "      <th>zebra</th>\n",
       "      <th>zed</th>\n",
       "      <th>zoe</th>\n",
       "      <th>zouk</th>\n",
       "    </tr>\n",
       "  </thead>\n",
       "  <tbody>\n",
       "    <tr>\n",
       "      <th>0</th>\n",
       "      <td>0</td>\n",
       "      <td>0</td>\n",
       "      <td>0</td>\n",
       "      <td>0</td>\n",
       "      <td>0</td>\n",
       "      <td>0</td>\n",
       "      <td>0</td>\n",
       "      <td>0</td>\n",
       "      <td>0</td>\n",
       "      <td>0</td>\n",
       "      <td>...</td>\n",
       "      <td>0</td>\n",
       "      <td>0</td>\n",
       "      <td>0</td>\n",
       "      <td>0</td>\n",
       "      <td>0</td>\n",
       "      <td>0</td>\n",
       "      <td>0</td>\n",
       "      <td>0</td>\n",
       "      <td>0</td>\n",
       "      <td>0</td>\n",
       "    </tr>\n",
       "    <tr>\n",
       "      <th>1</th>\n",
       "      <td>0</td>\n",
       "      <td>0</td>\n",
       "      <td>0</td>\n",
       "      <td>0</td>\n",
       "      <td>0</td>\n",
       "      <td>0</td>\n",
       "      <td>0</td>\n",
       "      <td>0</td>\n",
       "      <td>0</td>\n",
       "      <td>0</td>\n",
       "      <td>...</td>\n",
       "      <td>0</td>\n",
       "      <td>0</td>\n",
       "      <td>0</td>\n",
       "      <td>0</td>\n",
       "      <td>0</td>\n",
       "      <td>0</td>\n",
       "      <td>0</td>\n",
       "      <td>0</td>\n",
       "      <td>0</td>\n",
       "      <td>0</td>\n",
       "    </tr>\n",
       "    <tr>\n",
       "      <th>2</th>\n",
       "      <td>0</td>\n",
       "      <td>0</td>\n",
       "      <td>0</td>\n",
       "      <td>0</td>\n",
       "      <td>0</td>\n",
       "      <td>0</td>\n",
       "      <td>0</td>\n",
       "      <td>0</td>\n",
       "      <td>0</td>\n",
       "      <td>0</td>\n",
       "      <td>...</td>\n",
       "      <td>0</td>\n",
       "      <td>0</td>\n",
       "      <td>0</td>\n",
       "      <td>0</td>\n",
       "      <td>0</td>\n",
       "      <td>0</td>\n",
       "      <td>0</td>\n",
       "      <td>0</td>\n",
       "      <td>0</td>\n",
       "      <td>0</td>\n",
       "    </tr>\n",
       "    <tr>\n",
       "      <th>3</th>\n",
       "      <td>0</td>\n",
       "      <td>0</td>\n",
       "      <td>0</td>\n",
       "      <td>0</td>\n",
       "      <td>0</td>\n",
       "      <td>0</td>\n",
       "      <td>0</td>\n",
       "      <td>0</td>\n",
       "      <td>0</td>\n",
       "      <td>0</td>\n",
       "      <td>...</td>\n",
       "      <td>0</td>\n",
       "      <td>0</td>\n",
       "      <td>0</td>\n",
       "      <td>0</td>\n",
       "      <td>0</td>\n",
       "      <td>0</td>\n",
       "      <td>0</td>\n",
       "      <td>0</td>\n",
       "      <td>0</td>\n",
       "      <td>0</td>\n",
       "    </tr>\n",
       "    <tr>\n",
       "      <th>4</th>\n",
       "      <td>0</td>\n",
       "      <td>0</td>\n",
       "      <td>0</td>\n",
       "      <td>0</td>\n",
       "      <td>0</td>\n",
       "      <td>0</td>\n",
       "      <td>0</td>\n",
       "      <td>0</td>\n",
       "      <td>0</td>\n",
       "      <td>0</td>\n",
       "      <td>...</td>\n",
       "      <td>0</td>\n",
       "      <td>0</td>\n",
       "      <td>0</td>\n",
       "      <td>0</td>\n",
       "      <td>0</td>\n",
       "      <td>0</td>\n",
       "      <td>0</td>\n",
       "      <td>0</td>\n",
       "      <td>0</td>\n",
       "      <td>0</td>\n",
       "    </tr>\n",
       "  </tbody>\n",
       "</table>\n",
       "<p>5 rows × 3760 columns</p>\n",
       "</div>"
      ],
      "text/plain": [
       "   aaooooright  aathi  ab  aberdeen  ability  abiola  able  abnormally  \\\n",
       "0            0      0   0         0        0       0     0           0   \n",
       "1            0      0   0         0        0       0     0           0   \n",
       "2            0      0   0         0        0       0     0           0   \n",
       "3            0      0   0         0        0       0     0           0   \n",
       "4            0      0   0         0        0       0     0           0   \n",
       "\n",
       "   abroad  abt  ...  yr  yrs  yummy  yun  yup  zaher  zebra  zed  zoe  zouk  \n",
       "0       0    0  ...   0    0      0    0    0      0      0    0    0     0  \n",
       "1       0    0  ...   0    0      0    0    0      0      0    0    0     0  \n",
       "2       0    0  ...   0    0      0    0    0      0      0    0    0     0  \n",
       "3       0    0  ...   0    0      0    0    0      0      0    0    0     0  \n",
       "4       0    0  ...   0    0      0    0    0      0      0    0    0     0  \n",
       "\n",
       "[5 rows x 3760 columns]"
      ]
     },
     "execution_count": 122,
     "metadata": {},
     "output_type": "execute_result"
    }
   ],
   "source": [
    "df_bow = pd.DataFrame(data_bow,\n",
    "                   columns=vectorizer.get_feature_names())\n",
    "df_bow.head(5)"
   ]
  },
  {
   "cell_type": "code",
   "execution_count": 123,
   "id": "f5497641",
   "metadata": {
    "id": "f5497641"
   },
   "outputs": [],
   "source": [
    "from sklearn.feature_extraction.text import TfidfTransformer\n",
    "\n",
    "tfidf_transformer = TfidfTransformer().fit(data_bow)"
   ]
  },
  {
   "cell_type": "code",
   "execution_count": 124,
   "id": "b67bd206",
   "metadata": {
    "id": "b67bd206"
   },
   "outputs": [],
   "source": [
    "data_tfidf = tfidf_transformer.transform(data_bow)"
   ]
  },
  {
   "cell_type": "code",
   "execution_count": 125,
   "id": "a1d02a81",
   "metadata": {
    "id": "a1d02a81",
    "outputId": "d84a3a6f-3ed2-4337-cb16-70284526ce8e"
   },
   "outputs": [
    {
     "data": {
      "text/plain": [
       "<1547x3760 sparse matrix of type '<class 'numpy.float64'>'\n",
       "\twith 14370 stored elements in Compressed Sparse Row format>"
      ]
     },
     "execution_count": 125,
     "metadata": {},
     "output_type": "execute_result"
    }
   ],
   "source": [
    "data_tfidf"
   ]
  },
  {
   "cell_type": "code",
   "execution_count": 126,
   "id": "a21162f1",
   "metadata": {
    "id": "a21162f1"
   },
   "outputs": [],
   "source": [
    "del data_bow"
   ]
  },
  {
   "cell_type": "code",
   "execution_count": 127,
   "id": "73d2d0cb",
   "metadata": {
    "id": "73d2d0cb",
    "outputId": "777ea4b2-1d55-4a74-b5bf-b8f1ca455632"
   },
   "outputs": [
    {
     "data": {
      "text/plain": [
       "(1547, 3760)"
      ]
     },
     "execution_count": 127,
     "metadata": {},
     "output_type": "execute_result"
    }
   ],
   "source": [
    "np.shape(data_tfidf)"
   ]
  },
  {
   "cell_type": "code",
   "execution_count": 128,
   "id": "f0eca54d",
   "metadata": {
    "id": "f0eca54d"
   },
   "outputs": [],
   "source": [
    "def num_to_word(ix):\n",
    "    return df_bow.columns[ix]"
   ]
  },
  {
   "cell_type": "code",
   "execution_count": 129,
   "id": "7ada627f",
   "metadata": {
    "id": "7ada627f",
    "outputId": "255c05fe-9e0e-472e-e4b2-6b297245a714"
   },
   "outputs": [
    {
     "data": {
      "text/html": [
       "<div>\n",
       "<style scoped>\n",
       "    .dataframe tbody tr th:only-of-type {\n",
       "        vertical-align: middle;\n",
       "    }\n",
       "\n",
       "    .dataframe tbody tr th {\n",
       "        vertical-align: top;\n",
       "    }\n",
       "\n",
       "    .dataframe thead th {\n",
       "        text-align: right;\n",
       "    }\n",
       "</style>\n",
       "<table border=\"1\" class=\"dataframe\">\n",
       "  <thead>\n",
       "    <tr style=\"text-align: right;\">\n",
       "      <th></th>\n",
       "      <th>num_document</th>\n",
       "      <th>word</th>\n",
       "      <th>weight</th>\n",
       "    </tr>\n",
       "  </thead>\n",
       "  <tbody>\n",
       "    <tr>\n",
       "      <th>0</th>\n",
       "      <td>0</td>\n",
       "      <td>wkly</td>\n",
       "      <td>0.214132</td>\n",
       "    </tr>\n",
       "    <tr>\n",
       "      <th>1</th>\n",
       "      <td>0</td>\n",
       "      <td>win</td>\n",
       "      <td>0.160049</td>\n",
       "    </tr>\n",
       "    <tr>\n",
       "      <th>2</th>\n",
       "      <td>0</td>\n",
       "      <td>txt</td>\n",
       "      <td>0.125773</td>\n",
       "    </tr>\n",
       "    <tr>\n",
       "      <th>3</th>\n",
       "      <td>0</td>\n",
       "      <td>tkts</td>\n",
       "      <td>0.256800</td>\n",
       "    </tr>\n",
       "    <tr>\n",
       "      <th>4</th>\n",
       "      <td>0</td>\n",
       "      <td>text</td>\n",
       "      <td>0.130464</td>\n",
       "    </tr>\n",
       "  </tbody>\n",
       "</table>\n",
       "</div>"
      ],
      "text/plain": [
       "   num_document  word    weight\n",
       "0             0  wkly  0.214132\n",
       "1             0   win  0.160049\n",
       "2             0   txt  0.125773\n",
       "3             0  tkts  0.256800\n",
       "4             0  text  0.130464"
      ]
     },
     "execution_count": 129,
     "metadata": {},
     "output_type": "execute_result"
    }
   ],
   "source": [
    "c = data_tfidf.tocoo()                                                                                        \n",
    "\n",
    "tfidf_df = pd.DataFrame({'num_document': c.row, 'word': c.col, 'weight': c.data})\n",
    "tfidf_df[\"word\"] = tfidf_df[\"word\"].apply(num_to_word)\n",
    "tfidf_df.head(5)"
   ]
  },
  {
   "cell_type": "code",
   "execution_count": 130,
   "id": "59a5d5ac",
   "metadata": {
    "id": "59a5d5ac"
   },
   "outputs": [],
   "source": [
    "def top_n_sort(s, num, col):\n",
    "    tmp = s.sort_values(by = [col], ascending=False)[:num]  \n",
    "    tmp.index = range(num)\n",
    "    return tmp"
   ]
  },
  {
   "cell_type": "code",
   "execution_count": 131,
   "id": "c7c734dd",
   "metadata": {
    "id": "c7c734dd",
    "outputId": "c0fa6248-e450-4635-95de-d43a156734af"
   },
   "outputs": [
    {
     "data": {
      "image/png": "[encoded data removed]",
      "text/plain": [
       "<Figure size 1224x576 with 1 Axes>"
      ]
     },
     "metadata": {
      "needs_background": "light"
     },
     "output_type": "display_data"
    }
   ],
   "source": [
    "fig, axes = plt.subplots(figsize=(17, 8))\n",
    "\n",
    "sns.barplot(x='word', y='weight', \n",
    "            data= top_n_sort(tfidf_df, 10, 'weight'), ax=axes);"
   ]
  },
  {
   "cell_type": "code",
   "execution_count": 132,
   "id": "0df90cc8",
   "metadata": {
    "id": "0df90cc8"
   },
   "outputs": [],
   "source": [
    "from sklearn.model_selection import train_test_split\n",
    "\n",
    "data_tfidf_train, data_tfidf_test, label_train, label_test = \\\n",
    "    train_test_split(data_tfidf, spam_data[\"Category\"], test_size=0.3, random_state=5)"
   ]
  },
  {
   "cell_type": "code",
   "execution_count": 133,
   "id": "7104ebf5",
   "metadata": {
    "id": "7104ebf5",
    "outputId": "2a2ad41c-1052-4e00-d08f-2a19572b0724"
   },
   "outputs": [
    {
     "data": {
      "text/plain": [
       "<1082x3760 sparse matrix of type '<class 'numpy.float64'>'\n",
       "\twith 10253 stored elements in Compressed Sparse Row format>"
      ]
     },
     "execution_count": 133,
     "metadata": {},
     "output_type": "execute_result"
    }
   ],
   "source": [
    "data_tfidf_train"
   ]
  },
  {
   "cell_type": "code",
   "execution_count": 134,
   "id": "56fcba96",
   "metadata": {
    "id": "56fcba96",
    "outputId": "e29e6e31-210e-4032-ba8c-733af57e3a75"
   },
   "outputs": [
    {
     "data": {
      "text/plain": [
       "<465x3760 sparse matrix of type '<class 'numpy.float64'>'\n",
       "\twith 4117 stored elements in Compressed Sparse Row format>"
      ]
     },
     "execution_count": 134,
     "metadata": {},
     "output_type": "execute_result"
    }
   ],
   "source": [
    "data_tfidf_test"
   ]
  },
  {
   "cell_type": "code",
   "execution_count": 135,
   "id": "7ac2ef43",
   "metadata": {
    "id": "7ac2ef43",
    "outputId": "380f3b3e-777f-495b-be76-260566970db6"
   },
   "outputs": [
    {
     "data": {
      "image/png": "[encoded data removed]",
      "text/plain": [
       "<Figure size 1700x400 with 2 Axes>"
      ]
     },
     "metadata": {},
     "output_type": "display_data"
    }
   ],
   "source": [
    "fig, axes = plt.subplots(ncols=2, figsize=(17, 4), dpi=100)\n",
    "plt.tight_layout()\n",
    "\n",
    "axes[0].pie(label_train.value_counts(), explode=(0, 0.1), labels=[\"Ham\",\"Spam\"], autopct='%1.1f%%',\n",
    "        shadow=True, startangle=90)\n",
    "\n",
    "axes[1].pie(label_test.value_counts(), explode=(0, 0.1), labels=[\"Ham\",\"Spam\"], autopct='%1.1f%%',\n",
    "        shadow=True, startangle=90)\n",
    "\n",
    "axes[0].set_title('Target Distribution(Train)', fontsize=13)\n",
    "axes[1].set_title('Target Distribution(Test)', fontsize=13)\n",
    "\n",
    "plt.show()"
   ]
  },
  {
   "cell_type": "code",
   "execution_count": 136,
   "id": "423b5d57",
   "metadata": {
    "id": "423b5d57",
    "outputId": "4e0d942c-4eea-4588-d433-f1ca312919aa"
   },
   "outputs": [
    {
     "data": {
      "text/plain": [
       "Index(['Category', 'Message', 'punct_count', 'cl_count', 'nums_count',\n",
       "       'st_word_count'],\n",
       "      dtype='object')"
      ]
     },
     "execution_count": 136,
     "metadata": {},
     "output_type": "execute_result"
    }
   ],
   "source": [
    "spam_data.columns"
   ]
  },
  {
   "cell_type": "code",
   "execution_count": 137,
   "id": "27171cd2",
   "metadata": {
    "id": "27171cd2"
   },
   "outputs": [],
   "source": [
    "features = list(\n",
    "    set(spam_data.columns)\n",
    "    - {\n",
    "        \"Category\",\n",
    "        \"Message\",\n",
    "    }\n",
    ")"
   ]
  },
  {
   "cell_type": "code",
   "execution_count": 138,
   "id": "040e8dd7",
   "metadata": {
    "id": "040e8dd7",
    "outputId": "739dea02-37fa-4a19-8548-031165b7ac93"
   },
   "outputs": [
    {
     "data": {
      "text/plain": [
       "(1547, 3760)"
      ]
     },
     "execution_count": 138,
     "metadata": {},
     "output_type": "execute_result"
    }
   ],
   "source": [
    "np.shape(data_tfidf)"
   ]
  },
  {
   "cell_type": "code",
   "execution_count": 139,
   "id": "20a94907",
   "metadata": {
    "id": "20a94907"
   },
   "outputs": [],
   "source": [
    "from scipy.sparse import  hstack\n",
    "X = hstack((data_tfidf ,np.array(spam_data['punct_count'])[:,None]))"
   ]
  },
  {
   "cell_type": "code",
   "execution_count": 140,
   "id": "218251f3",
   "metadata": {
    "id": "218251f3",
    "outputId": "7005d28e-7394-4e09-ae4e-3b2d856b1b61"
   },
   "outputs": [
    {
     "data": {
      "text/plain": [
       "(1547, 3761)"
      ]
     },
     "execution_count": 140,
     "metadata": {},
     "output_type": "execute_result"
    }
   ],
   "source": [
    "np.shape(X)"
   ]
  },
  {
   "cell_type": "code",
   "execution_count": 141,
   "id": "febc5d05",
   "metadata": {
    "id": "febc5d05"
   },
   "outputs": [],
   "source": [
    "X2 = hstack((X ,np.array(spam_data['cl_count'])[:,None]))"
   ]
  },
  {
   "cell_type": "code",
   "execution_count": 142,
   "id": "247653c8",
   "metadata": {
    "id": "247653c8",
    "outputId": "01447c5b-490f-4d0b-b94e-44dd997f8f45"
   },
   "outputs": [
    {
     "data": {
      "text/plain": [
       "(1547, 3762)"
      ]
     },
     "execution_count": 142,
     "metadata": {},
     "output_type": "execute_result"
    }
   ],
   "source": [
    "del X\n",
    "np.shape(X2)"
   ]
  },
  {
   "cell_type": "code",
   "execution_count": 143,
   "id": "9813355e",
   "metadata": {
    "id": "9813355e"
   },
   "outputs": [],
   "source": [
    "X3 = hstack((X2 ,np.array(spam_data['nums_count'])[:,None]))"
   ]
  },
  {
   "cell_type": "code",
   "execution_count": 144,
   "id": "575c276f",
   "metadata": {
    "id": "575c276f",
    "outputId": "2023ac47-6698-40ad-80e5-ce5a61427216"
   },
   "outputs": [
    {
     "data": {
      "text/plain": [
       "(1547, 3763)"
      ]
     },
     "execution_count": 144,
     "metadata": {},
     "output_type": "execute_result"
    }
   ],
   "source": [
    "del X2\n",
    "np.shape(X3)"
   ]
  },
  {
   "cell_type": "code",
   "execution_count": 145,
   "id": "56fc6bc1",
   "metadata": {
    "id": "56fc6bc1"
   },
   "outputs": [],
   "source": [
    "X4 = hstack((X3 ,np.array(spam_data['st_word_count'])[:,None])).A"
   ]
  },
  {
   "cell_type": "code",
   "execution_count": 146,
   "id": "1d3608cc",
   "metadata": {
    "id": "1d3608cc",
    "outputId": "0daff0e8-0910-4ae7-bf67-9a935d9cfd1a"
   },
   "outputs": [
    {
     "data": {
      "text/plain": [
       "(1547, 3764)"
      ]
     },
     "execution_count": 146,
     "metadata": {},
     "output_type": "execute_result"
    }
   ],
   "source": [
    "del X3\n",
    "np.shape(X4)"
   ]
  },
  {
   "cell_type": "code",
   "execution_count": 147,
   "id": "de483b77",
   "metadata": {
    "id": "de483b77"
   },
   "outputs": [],
   "source": [
    "X4_train, X4_test, y4_train, y4_test = \\\n",
    "    train_test_split(X4, spam_data[\"Category\"], test_size=0.3, random_state=5)"
   ]
  },
  {
   "cell_type": "code",
   "execution_count": 148,
   "id": "2e0395c2",
   "metadata": {
    "id": "2e0395c2"
   },
   "outputs": [],
   "source": [
    "from sklearn.naive_bayes import MultinomialNB"
   ]
  },
  {
   "cell_type": "code",
   "execution_count": 149,
   "id": "723f7327",
   "metadata": {
    "id": "723f7327"
   },
   "outputs": [],
   "source": [
    "mnb_with_feat_unsc = MultinomialNB().fit(X4_train, y4_train.values.ravel())\n",
    "pred_mwfu = mnb_with_feat_unsc.predict(X4_test)"
   ]
  },
  {
   "cell_type": "code",
   "execution_count": 150,
   "id": "efbd87b9",
   "metadata": {
    "id": "efbd87b9"
   },
   "outputs": [],
   "source": [
    "from sklearn.preprocessing import MinMaxScaler"
   ]
  },
  {
   "cell_type": "code",
   "execution_count": 151,
   "id": "28338b67",
   "metadata": {
    "id": "28338b67"
   },
   "outputs": [],
   "source": [
    "X4_tfidf_train = X4_train[:,0:70000]\n",
    "X4_tfidf_test  = X4_test[:,0:70000]\n",
    "X4_feat_train = X4_train[:,-4:70004]\n",
    "X4_feat_test  = X4_test[:,-4:70004]"
   ]
  },
  {
   "cell_type": "code",
   "execution_count": 152,
   "id": "f39430c0",
   "metadata": {
    "id": "f39430c0"
   },
   "outputs": [],
   "source": [
    "scaler = MinMaxScaler()\n",
    "X4_tfidf_train = scaler.fit_transform(X4_tfidf_train)\n",
    "X4_tfidf_test  = scaler.transform(X4_tfidf_test)"
   ]
  },
  {
   "cell_type": "code",
   "execution_count": 153,
   "id": "6c84deca",
   "metadata": {
    "id": "6c84deca"
   },
   "outputs": [],
   "source": [
    "scaler = MinMaxScaler()\n",
    "X4_feat_train = scaler.fit_transform(X4_feat_train)\n",
    "X4_feat_test  = scaler.transform(X4_feat_test)"
   ]
  },
  {
   "cell_type": "code",
   "execution_count": 154,
   "id": "9ff6325e",
   "metadata": {
    "id": "9ff6325e"
   },
   "outputs": [],
   "source": [
    "X4_train = np.hstack((X4_tfidf_train, X4_feat_train))\n",
    "X4_test  = np.hstack((X4_tfidf_test,  X4_feat_test))"
   ]
  },
  {
   "cell_type": "code",
   "execution_count": 155,
   "id": "321e3618",
   "metadata": {
    "id": "321e3618"
   },
   "outputs": [],
   "source": [
    "mnb_with_feat_sc = MultinomialNB().fit(X4_train, y4_train.values.ravel())\n",
    "pred_mwfs = mnb_with_feat_sc.predict(X4_test)"
   ]
  },
  {
   "cell_type": "code",
   "execution_count": 156,
   "id": "eb58d4a5",
   "metadata": {
    "id": "eb58d4a5"
   },
   "outputs": [],
   "source": [
    "del X4_tfidf_train, X4_tfidf_test, X4_feat_train, X4_feat_test"
   ]
  },
  {
   "cell_type": "code",
   "execution_count": 157,
   "id": "275b8321",
   "metadata": {
    "id": "275b8321"
   },
   "outputs": [],
   "source": [
    "data_tfidf_train = data_tfidf_train.A\n",
    "data_tfidf_test = data_tfidf_test.A"
   ]
  },
  {
   "cell_type": "code",
   "execution_count": 158,
   "id": "e7413996",
   "metadata": {
    "id": "e7413996"
   },
   "outputs": [],
   "source": [
    "mnb_without_feat_unsc = MultinomialNB().fit(data_tfidf_train, label_train.values.ravel())\n",
    "pred_mwtfus = mnb_without_feat_unsc.predict(data_tfidf_test)"
   ]
  },
  {
   "cell_type": "code",
   "execution_count": 159,
   "id": "76afad35",
   "metadata": {
    "id": "76afad35"
   },
   "outputs": [],
   "source": [
    "del X4_train"
   ]
  },
  {
   "cell_type": "code",
   "execution_count": 160,
   "id": "895d7785",
   "metadata": {
    "id": "895d7785"
   },
   "outputs": [],
   "source": [
    "scaler = MinMaxScaler()\n",
    "data_tfidf_train = scaler.fit_transform(data_tfidf_train)\n",
    "data_tfidf_test  = scaler.transform(data_tfidf_test)"
   ]
  },
  {
   "cell_type": "code",
   "execution_count": 161,
   "id": "9ac0cd51",
   "metadata": {
    "id": "9ac0cd51"
   },
   "outputs": [],
   "source": [
    "mnb_without_feat_sc = MultinomialNB().fit(data_tfidf_train, label_train.values.ravel())\n",
    "pred_mwtfs = mnb_without_feat_sc.predict(data_tfidf_test)"
   ]
  },
  {
   "cell_type": "code",
   "execution_count": 162,
   "id": "787774b0",
   "metadata": {
    "id": "787774b0"
   },
   "outputs": [],
   "source": [
    "from sklearn.metrics import confusion_matrix"
   ]
  },
  {
   "cell_type": "code",
   "execution_count": 163,
   "id": "27b83a69",
   "metadata": {
    "id": "27b83a69"
   },
   "outputs": [],
   "source": [
    "conf_mwfu = confusion_matrix(pred_mwfu,y4_test)\n",
    "conf_mwfs = confusion_matrix(pred_mwfs,y4_test)\n",
    "conf_mwtfus = confusion_matrix(pred_mwtfus,label_test)\n",
    "conf_mwtfs = confusion_matrix(pred_mwtfs,label_test)"
   ]
  },
  {
   "cell_type": "code",
   "execution_count": 164,
   "id": "d820eca1",
   "metadata": {
    "id": "d820eca1",
    "outputId": "46ea9d9a-64f6-4e6c-d705-772c884300b9"
   },
   "outputs": [
    {
     "data": {
      "image/png": "[encoded data removed]",
      "text/plain": [
       "<Figure size 1152x720 with 8 Axes>"
      ]
     },
     "metadata": {
      "needs_background": "light"
     },
     "output_type": "display_data"
    }
   ],
   "source": [
    "fig, axes = plt.subplots(nrows=2, ncols=2, figsize=(16, 10))\n",
    "#plt.tight_layout()\n",
    "sns.heatmap(conf_mwfu,annot=True,fmt=\".1f\",linewidths=1.5, ax=axes[0][0])\n",
    "sns.heatmap(conf_mwfs,annot=True,fmt=\".1f\",linewidths=1.5, ax=axes[0][1])\n",
    "sns.heatmap(conf_mwtfus,annot=True,fmt=\".1f\",linewidths=1.5, ax=axes[1][0])\n",
    "sns.heatmap(conf_mwtfs,annot=True,fmt=\".1f\",linewidths=1.5, ax=axes[1][1])\n",
    "\n",
    "axes[0][0].set_title('Extra feat, unscaled', fontsize=13)\n",
    "axes[0][1].set_title('Extra feat, scaled', fontsize=13)\n",
    "axes[1][0].set_title('Just TFIDF, unscaled', fontsize=13)\n",
    "axes[1][1].set_title('Just TFIDF, scaled', fontsize=13)\n",
    "\n",
    "plt.show()"
   ]
  },
  {
   "cell_type": "code",
   "execution_count": 165,
   "id": "34601497",
   "metadata": {
    "id": "34601497"
   },
   "outputs": [],
   "source": [
    "from sklearn.metrics import accuracy_score"
   ]
  },
  {
   "cell_type": "code",
   "execution_count": 166,
   "id": "a0112e70",
   "metadata": {
    "id": "a0112e70"
   },
   "outputs": [],
   "source": [
    "dr1 = {'m_name': [\"unscaled\", \"scaled\"], \n",
    "       'acc': [accuracy_score(y4_test, pred_mwfu), accuracy_score(y4_test, pred_mwfs)]}\n",
    "df_wf_res = pd.DataFrame(data=dr1)"
   ]
  },
  {
   "cell_type": "code",
   "execution_count": 167,
   "id": "ff6851f6",
   "metadata": {
    "id": "ff6851f6"
   },
   "outputs": [],
   "source": [
    "dr2 = {'m_name': [\"unscaled\", \"scaled\"], \n",
    "       'acc': [accuracy_score(label_test, pred_mwtfus), accuracy_score(label_test, pred_mwtfs)]}\n",
    "df_wtf_res = pd.DataFrame(data=dr2)"
   ]
  },
  {
   "cell_type": "code",
   "execution_count": 168,
   "id": "190383be",
   "metadata": {
    "id": "190383be",
    "outputId": "031c9cc0-b8cf-4a98-8759-1c4b18fcd305"
   },
   "outputs": [
    {
     "data": {
      "image/png": "[encoded data removed]",
      "text/plain": [
       "<Figure size 864x432 with 2 Axes>"
      ]
     },
     "metadata": {
      "needs_background": "light"
     },
     "output_type": "display_data"
    }
   ],
   "source": [
    "fig, axes = plt.subplots(ncols=2, figsize=(12, 6))\n",
    "plt.tight_layout()\n",
    "\n",
    "axes[0].bar(df_wf_res['m_name'],df_wf_res['acc'], color=['black', 'red'])\n",
    "axes[1].bar(df_wtf_res['m_name'],df_wtf_res['acc'], color=['green', 'blue'])\n",
    "\n",
    "for i in range(2):\n",
    "    axes[0].annotate(str(df_wf_res['acc'][i]), xy=(df_wf_res['m_name'][i],df_wf_res['acc'][i]), \n",
    "                                                                   ha='center', va='bottom')\n",
    "for i in range(2):\n",
    "    axes[1].annotate(str(df_wtf_res['acc'][i]), xy=(df_wtf_res['m_name'][i],df_wtf_res['acc'][i]), \n",
    "                                                                   ha='center', va='bottom')\n",
    "\n",
    "axes[0].set_title('Accurace score(with extra feat)', fontsize=13)\n",
    "axes[1].set_title('Accurace score(without extra feat)', fontsize=13)    \n",
    "plt.show()"
   ]
  },
  {
   "cell_type": "code",
   "execution_count": 169,
   "id": "1051c52d",
   "metadata": {
    "id": "1051c52d"
   },
   "outputs": [],
   "source": [
    "from sklearn.metrics import recall_score"
   ]
  },
  {
   "cell_type": "code",
   "execution_count": 170,
   "id": "dced1422",
   "metadata": {
    "id": "dced1422"
   },
   "outputs": [],
   "source": [
    "dr1 = {'m_name': [\"unscaled\", \"scaled\"], \n",
    "       'rec': [recall_score(y4_test, pred_mwfu), recall_score(y4_test, pred_mwfs)]}\n",
    "df_wf_res = pd.DataFrame(data=dr1)"
   ]
  },
  {
   "cell_type": "code",
   "execution_count": 171,
   "id": "8c18f1f8",
   "metadata": {
    "id": "8c18f1f8"
   },
   "outputs": [],
   "source": [
    "dr2 = {'m_name': [\"unscaled\", \"scaled\"], \n",
    "       'rec': [recall_score(label_test, pred_mwtfus), recall_score(label_test, pred_mwtfs)]}\n",
    "df_wtf_res = pd.DataFrame(data=dr2)"
   ]
  },
  {
   "cell_type": "code",
   "execution_count": 172,
   "id": "62455dd1",
   "metadata": {
    "id": "62455dd1",
    "outputId": "c8275b29-c3e0-4e7c-d874-46dfbe0161b6"
   },
   "outputs": [
    {
     "data": {
      "image/png": "[encoded data removed]",
      "text/plain": [
       "<Figure size 864x432 with 2 Axes>"
      ]
     },
     "metadata": {
      "needs_background": "light"
     },
     "output_type": "display_data"
    }
   ],
   "source": [
    "fig, axes = plt.subplots(ncols=2, figsize=(12, 6))\n",
    "plt.tight_layout()\n",
    "\n",
    "axes[0].bar(df_wf_res['m_name'],df_wf_res['rec'], color=['black', 'red'])\n",
    "axes[1].bar(df_wtf_res['m_name'],df_wtf_res['rec'], color=['green', 'blue'])\n",
    "\n",
    "for i in range(2):\n",
    "    axes[0].annotate(str(df_wf_res['rec'][i]), xy=(df_wf_res['m_name'][i],df_wf_res['rec'][i]), \n",
    "                                                                   ha='center', va='bottom')\n",
    "for i in range(2):\n",
    "    axes[1].annotate(str(df_wtf_res['rec'][i]), xy=(df_wtf_res['m_name'][i],df_wtf_res['rec'][i]), \n",
    "                                                                   ha='center', va='bottom')\n",
    "\n",
    "axes[0].set_title('Recall score(with extra feat)', fontsize=13)\n",
    "axes[1].set_title('Recall score(without extra feat)', fontsize=13)    \n",
    "plt.show()"
   ]
  },
  {
   "cell_type": "code",
   "execution_count": 173,
   "id": "9f8d14b9",
   "metadata": {
    "id": "9f8d14b9"
   },
   "outputs": [],
   "source": [
    "from sklearn.metrics import precision_score"
   ]
  },
  {
   "cell_type": "code",
   "execution_count": 174,
   "id": "4f431c01",
   "metadata": {
    "id": "4f431c01"
   },
   "outputs": [],
   "source": [
    "dr1 = {'m_name': [\"unscaled\", \"scaled\"], \n",
    "       'prec': [precision_score(y4_test, pred_mwfu), precision_score(y4_test, pred_mwfs)]}\n",
    "df_wf_res = pd.DataFrame(data=dr1)"
   ]
  },
  {
   "cell_type": "code",
   "execution_count": 175,
   "id": "43acbd7a",
   "metadata": {
    "id": "43acbd7a"
   },
   "outputs": [],
   "source": [
    "dr2 = {'m_name': [\"unscaled\", \"scaled\"], \n",
    "       'prec': [precision_score(label_test, pred_mwtfus), precision_score(label_test, pred_mwtfs)]}\n",
    "df_wtf_res = pd.DataFrame(data=dr2)"
   ]
  },
  {
   "cell_type": "code",
   "execution_count": 176,
   "id": "c53b04ea",
   "metadata": {
    "id": "c53b04ea",
    "outputId": "d3053056-2daf-4eef-ac32-715e2c2f01dd"
   },
   "outputs": [
    {
     "data": {
      "image/png": "[encoded data removed]",
      "text/plain": [
       "<Figure size 864x432 with 2 Axes>"
      ]
     },
     "metadata": {
      "needs_background": "light"
     },
     "output_type": "display_data"
    }
   ],
   "source": [
    "fig, axes = plt.subplots(ncols=2, figsize=(12, 6))\n",
    "plt.tight_layout()\n",
    "\n",
    "axes[0].bar(df_wf_res['m_name'],df_wf_res['prec'], color=['black', 'red'])\n",
    "axes[1].bar(df_wtf_res['m_name'],df_wtf_res['prec'], color=['green', 'blue'])\n",
    "\n",
    "for i in range(2):\n",
    "    axes[0].annotate(str(df_wf_res['prec'][i]), xy=(df_wf_res['m_name'][i],df_wf_res['prec'][i]), \n",
    "                                                                   ha='center', va='bottom')\n",
    "for i in range(2):\n",
    "    axes[1].annotate(str(df_wtf_res['prec'][i]), xy=(df_wtf_res['m_name'][i],df_wtf_res['prec'][i]), \n",
    "                                                                   ha='center', va='bottom')\n",
    "\n",
    "axes[0].set_title('Precision score(with extra feat)', fontsize=13)\n",
    "axes[1].set_title('Precision score(without extra feat)', fontsize=13)    \n",
    "plt.show()"
   ]
  },
  {
   "cell_type": "code",
   "execution_count": 181,
   "id": "ef3d689d",
   "metadata": {
    "id": "ef3d689d"
   },
   "outputs": [],
   "source": [
    "from sklearn.metrics import roc_auc_score"
   ]
  },
  {
   "cell_type": "code",
   "execution_count": 182,
   "id": "b2765c28",
   "metadata": {
    "id": "b2765c28"
   },
   "outputs": [],
   "source": [
    "dr1 = {'m_name': [\"unscaled\", \"scaled\"], \n",
    "       'auc_score': [roc_auc_score(y4_test, pred_mwfu), roc_auc_score(y4_test, pred_mwfs)]}\n",
    "df_wf_res = pd.DataFrame(data=dr1)"
   ]
  },
  {
   "cell_type": "code",
   "execution_count": 183,
   "id": "8c8788a5",
   "metadata": {
    "id": "8c8788a5"
   },
   "outputs": [],
   "source": [
    "dr2 = {'m_name': [\"unscaled\", \"scaled\"], \n",
    "       'auc_score': [roc_auc_score(label_test, pred_mwtfus), roc_auc_score(label_test, pred_mwtfs)]}\n",
    "df_wtf_res = pd.DataFrame(data=dr2)"
   ]
  },
  {
   "cell_type": "code",
   "execution_count": 184,
   "id": "f3a9a24f",
   "metadata": {
    "id": "f3a9a24f"
   },
   "outputs": [],
   "source": [
    "from sklearn.metrics import roc_curve"
   ]
  },
  {
   "cell_type": "code",
   "execution_count": 185,
   "id": "150989e7",
   "metadata": {
    "id": "150989e7"
   },
   "outputs": [],
   "source": [
    "fpr_mwfu, tpr_mwfu, thresholds_mwfu = roc_curve(y4_test, pred_mwfu)\n",
    "fpr_mwfs, tpr_mwfs, thresholds_mwfs = roc_curve(y4_test, pred_mwfs)\n",
    "fpr_mwtfus, tpr_mwtfus, thresholds_mwtfus = roc_curve(label_test, pred_mwtfus)\n",
    "fpr_mwtfs, tpr_mwtfs, thresholds_mwtfs = roc_curve(label_test, pred_mwtfs)"
   ]
  },
  {
   "cell_type": "code",
   "execution_count": 186,
   "id": "b8b0bf46",
   "metadata": {
    "id": "b8b0bf46",
    "outputId": "82754592-2294-4d29-85b4-86d8f61fd546"
   },
   "outputs": [
    {
     "data": {
      "image/png": "[encoded data removed]",
      "text/plain": [
       "<Figure size 864x576 with 1 Axes>"
      ]
     },
     "metadata": {
      "needs_background": "light"
     },
     "output_type": "display_data"
    }
   ],
   "source": [
    "fig, axes = plt.subplots(figsize=(12, 8))\n",
    "axes.plot(fpr_mwfu, tpr_mwfu, label = 'MWFU AUC: %.3f'%dr1['auc_score'][0])\n",
    "axes.plot(fpr_mwfs,tpr_mwfs,'r-', label= 'MWFS AUC: %.5f'%dr1['auc_score'][1])\n",
    "axes.plot(fpr_mwtfus,tpr_mwtfus,'g-', label= 'MWTFUS AUC: %.3f'%dr2['auc_score'][0])\n",
    "axes.plot(fpr_mwtfs,tpr_mwtfs,'b-', label= 'MWTFS AUC: %.5f'%dr2['auc_score'][1])\n",
    "plt.legend()\n",
    "plt.xlabel('False Positive Rate')\n",
    "plt.ylabel('True Positive Rate')\n",
    "plt.show()"
   ]
  },
  {
   "cell_type": "code",
   "execution_count": null,
   "id": "3120d2cf",
   "metadata": {
    "id": "3120d2cf"
   },
   "outputs": [],
   "source": []
  }
 ],
 "metadata": {
  "colab": {
   "name": "2 April - Spam Email code.ipynb",
   "provenance": []
  },
  "kernelspec": {
   "display_name": "Python 3 (ipykernel)",
   "language": "python",
   "name": "python3"
  },
  "language_info": {
   "codemirror_mode": {
    "name": "ipython",
    "version": 3
   },
   "file_extension": ".py",
   "mimetype": "text/x-python",
   "name": "python",
   "nbconvert_exporter": "python",
   "pygments_lexer": "ipython3",
   "version": "3.9.7"
  }
 },
 "nbformat": 4,
 "nbformat_minor": 5
}
